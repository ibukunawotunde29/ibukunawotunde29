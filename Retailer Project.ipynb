{
 "cells": [
  {
   "cell_type": "markdown",
   "metadata": {},
   "source": []
  },
  {
   "cell_type": "code",
   "execution_count": 1,
   "metadata": {},
   "outputs": [],
   "source": [
    "# Retailer X has given you a set of data to help him deduce the following:\n",
    "#understand the factors associated with loyalty program participation\n",
    "#Understand the factors associated with increased spending\n",
    "\n",
    "\n",
    "#Import the various modules needed by running this cell\n",
    "import pandas as pd\n",
    "import numpy as np\n",
    "import matplotlib.pyplot as plt\n",
    "import types\n",
    "#from matplotlib import pyplot\n",
    "#import types\n",
    "import seaborn as sns"
   ]
  },
  {
   "cell_type": "code",
   "execution_count": 2,
   "metadata": {},
   "outputs": [],
   "source": [
    "#Step 1: import your files(customer_data, product_data and transaction_data and read the first 5 rows)\n",
    "#Hint: use sep syntax in the read_csv function"
   ]
  },
  {
   "cell_type": "code",
   "execution_count": 3,
   "metadata": {},
   "outputs": [
    {
     "data": {
      "text/html": [
       "<div>\n",
       "<style scoped>\n",
       "    .dataframe tbody tr th:only-of-type {\n",
       "        vertical-align: middle;\n",
       "    }\n",
       "\n",
       "    .dataframe tbody tr th {\n",
       "        vertical-align: top;\n",
       "    }\n",
       "\n",
       "    .dataframe thead th {\n",
       "        text-align: right;\n",
       "    }\n",
       "</style>\n",
       "<table border=\"1\" class=\"dataframe\">\n",
       "  <thead>\n",
       "    <tr style=\"text-align: right;\">\n",
       "      <th></th>\n",
       "      <th>CUSTOMERID</th>\n",
       "      <th>GENDER</th>\n",
       "      <th>AGE</th>\n",
       "      <th>INCOME</th>\n",
       "      <th>EXPERIENCE SCORE</th>\n",
       "      <th>LOYALTY GROUP</th>\n",
       "      <th>ENROLLMENT DATE</th>\n",
       "      <th>HOUSEHOLD SIZE</th>\n",
       "      <th>MARITAL STATUS</th>\n",
       "    </tr>\n",
       "  </thead>\n",
       "  <tbody>\n",
       "    <tr>\n",
       "      <th>0</th>\n",
       "      <td>10001</td>\n",
       "      <td>0</td>\n",
       "      <td>64</td>\n",
       "      <td>$133,498</td>\n",
       "      <td>5</td>\n",
       "      <td>enrolled</td>\n",
       "      <td>06-03-2013</td>\n",
       "      <td>4</td>\n",
       "      <td>Single</td>\n",
       "    </tr>\n",
       "    <tr>\n",
       "      <th>1</th>\n",
       "      <td>10002</td>\n",
       "      <td>0</td>\n",
       "      <td>42</td>\n",
       "      <td>$94,475</td>\n",
       "      <td>9</td>\n",
       "      <td>notenrolled</td>\n",
       "      <td>NaN</td>\n",
       "      <td>6</td>\n",
       "      <td>Married</td>\n",
       "    </tr>\n",
       "    <tr>\n",
       "      <th>2</th>\n",
       "      <td>10003</td>\n",
       "      <td>0</td>\n",
       "      <td>40</td>\n",
       "      <td>$88,610</td>\n",
       "      <td>9</td>\n",
       "      <td>enrolled</td>\n",
       "      <td>02-09-2010</td>\n",
       "      <td>5</td>\n",
       "      <td>Married</td>\n",
       "    </tr>\n",
       "    <tr>\n",
       "      <th>3</th>\n",
       "      <td>10004</td>\n",
       "      <td>0</td>\n",
       "      <td>38</td>\n",
       "      <td>$84,313</td>\n",
       "      <td>8</td>\n",
       "      <td>enrolled</td>\n",
       "      <td>06-04-2015</td>\n",
       "      <td>1</td>\n",
       "      <td>Single</td>\n",
       "    </tr>\n",
       "    <tr>\n",
       "      <th>4</th>\n",
       "      <td>10005</td>\n",
       "      <td>0</td>\n",
       "      <td>30</td>\n",
       "      <td>$51,498</td>\n",
       "      <td>3</td>\n",
       "      <td>notenrolled</td>\n",
       "      <td>NaN</td>\n",
       "      <td>1</td>\n",
       "      <td>Single</td>\n",
       "    </tr>\n",
       "  </tbody>\n",
       "</table>\n",
       "</div>"
      ],
      "text/plain": [
       "   CUSTOMERID  GENDER  AGE    INCOME  EXPERIENCE SCORE LOYALTY GROUP  \\\n",
       "0       10001       0   64  $133,498                 5      enrolled   \n",
       "1       10002       0   42   $94,475                 9   notenrolled   \n",
       "2       10003       0   40   $88,610                 9      enrolled   \n",
       "3       10004       0   38   $84,313                 8      enrolled   \n",
       "4       10005       0   30   $51,498                 3   notenrolled   \n",
       "\n",
       "  ENROLLMENT DATE  HOUSEHOLD SIZE MARITAL STATUS  \n",
       "0      06-03-2013               4         Single  \n",
       "1             NaN               6        Married  \n",
       "2      02-09-2010               5        Married  \n",
       "3      06-04-2015               1         Single  \n",
       "4             NaN               1         Single  "
      ]
     },
     "execution_count": 3,
     "metadata": {},
     "output_type": "execute_result"
    }
   ],
   "source": [
    "customerD = pd.read_csv(\"./Customer_Data.csv\")\n",
    "customerD.head()"
   ]
  },
  {
   "cell_type": "code",
   "execution_count": 4,
   "metadata": {
    "scrolled": true
   },
   "outputs": [
    {
     "data": {
      "text/html": [
       "<div>\n",
       "<style scoped>\n",
       "    .dataframe tbody tr th:only-of-type {\n",
       "        vertical-align: middle;\n",
       "    }\n",
       "\n",
       "    .dataframe tbody tr th {\n",
       "        vertical-align: top;\n",
       "    }\n",
       "\n",
       "    .dataframe thead th {\n",
       "        text-align: right;\n",
       "    }\n",
       "</style>\n",
       "<table border=\"1\" class=\"dataframe\">\n",
       "  <thead>\n",
       "    <tr style=\"text-align: right;\">\n",
       "      <th></th>\n",
       "      <th>PRODUCT CODE</th>\n",
       "      <th>PRODUCT CATEGORY</th>\n",
       "      <th>UNIT LIST PRICE</th>\n",
       "    </tr>\n",
       "  </thead>\n",
       "  <tbody>\n",
       "    <tr>\n",
       "      <th>0</th>\n",
       "      <td>30001</td>\n",
       "      <td>HEALTH &amp; BEAUTY</td>\n",
       "      <td>$7.45</td>\n",
       "    </tr>\n",
       "    <tr>\n",
       "      <th>1</th>\n",
       "      <td>30002</td>\n",
       "      <td>HEALTH &amp; BEAUTY</td>\n",
       "      <td>$5.35</td>\n",
       "    </tr>\n",
       "    <tr>\n",
       "      <th>2</th>\n",
       "      <td>30003</td>\n",
       "      <td>HEALTH &amp; BEAUTY</td>\n",
       "      <td>$5.49</td>\n",
       "    </tr>\n",
       "    <tr>\n",
       "      <th>3</th>\n",
       "      <td>30004</td>\n",
       "      <td>HEALTH &amp; BEAUTY</td>\n",
       "      <td>$6.46</td>\n",
       "    </tr>\n",
       "    <tr>\n",
       "      <th>4</th>\n",
       "      <td>30005</td>\n",
       "      <td>HEALTH &amp; BEAUTY</td>\n",
       "      <td>$7.33</td>\n",
       "    </tr>\n",
       "  </tbody>\n",
       "</table>\n",
       "</div>"
      ],
      "text/plain": [
       "   PRODUCT CODE PRODUCT CATEGORY UNIT LIST PRICE\n",
       "0         30001  HEALTH & BEAUTY          $7.45 \n",
       "1         30002  HEALTH & BEAUTY          $5.35 \n",
       "2         30003  HEALTH & BEAUTY          $5.49 \n",
       "3         30004  HEALTH & BEAUTY          $6.46 \n",
       "4         30005  HEALTH & BEAUTY          $7.33 "
      ]
     },
     "execution_count": 4,
     "metadata": {},
     "output_type": "execute_result"
    }
   ],
   "source": [
    "#Sep was used so that each rows can fall in appropirate column\n",
    "productD = pd.read_csv(\"./Product_Data.csv\", sep = \"|\")\n",
    "productD.head()"
   ]
  },
  {
   "cell_type": "code",
   "execution_count": 5,
   "metadata": {},
   "outputs": [
    {
     "data": {
      "text/html": [
       "<div>\n",
       "<style scoped>\n",
       "    .dataframe tbody tr th:only-of-type {\n",
       "        vertical-align: middle;\n",
       "    }\n",
       "\n",
       "    .dataframe tbody tr th {\n",
       "        vertical-align: top;\n",
       "    }\n",
       "\n",
       "    .dataframe thead th {\n",
       "        text-align: right;\n",
       "    }\n",
       "</style>\n",
       "<table border=\"1\" class=\"dataframe\">\n",
       "  <thead>\n",
       "    <tr style=\"text-align: right;\">\n",
       "      <th></th>\n",
       "      <th>CUSTOMER NUM</th>\n",
       "      <th>PRODUCT NUM</th>\n",
       "      <th>QUANTITY PURCHASED</th>\n",
       "      <th>DISCOUNT TAKEN</th>\n",
       "      <th>TRANSACTION DATE</th>\n",
       "      <th>STOCKOUT</th>\n",
       "    </tr>\n",
       "  </thead>\n",
       "  <tbody>\n",
       "    <tr>\n",
       "      <th>0</th>\n",
       "      <td>10114</td>\n",
       "      <td>30011</td>\n",
       "      <td>4</td>\n",
       "      <td>0.0</td>\n",
       "      <td>1/2/2015</td>\n",
       "      <td>0</td>\n",
       "    </tr>\n",
       "    <tr>\n",
       "      <th>1</th>\n",
       "      <td>10217</td>\n",
       "      <td>30016</td>\n",
       "      <td>3</td>\n",
       "      <td>0.0</td>\n",
       "      <td>1/2/2015</td>\n",
       "      <td>0</td>\n",
       "    </tr>\n",
       "    <tr>\n",
       "      <th>2</th>\n",
       "      <td>10224</td>\n",
       "      <td>30013</td>\n",
       "      <td>4</td>\n",
       "      <td>0.0</td>\n",
       "      <td>1/2/2015</td>\n",
       "      <td>0</td>\n",
       "    </tr>\n",
       "    <tr>\n",
       "      <th>3</th>\n",
       "      <td>10103</td>\n",
       "      <td>30012</td>\n",
       "      <td>3</td>\n",
       "      <td>0.2</td>\n",
       "      <td>1/2/2015</td>\n",
       "      <td>0</td>\n",
       "    </tr>\n",
       "    <tr>\n",
       "      <th>4</th>\n",
       "      <td>10037</td>\n",
       "      <td>30010</td>\n",
       "      <td>8</td>\n",
       "      <td>0.0</td>\n",
       "      <td>1/2/2015</td>\n",
       "      <td>0</td>\n",
       "    </tr>\n",
       "  </tbody>\n",
       "</table>\n",
       "</div>"
      ],
      "text/plain": [
       "   CUSTOMER NUM  PRODUCT NUM  QUANTITY PURCHASED  DISCOUNT TAKEN  \\\n",
       "0         10114        30011                   4             0.0   \n",
       "1         10217        30016                   3             0.0   \n",
       "2         10224        30013                   4             0.0   \n",
       "3         10103        30012                   3             0.2   \n",
       "4         10037        30010                   8             0.0   \n",
       "\n",
       "  TRANSACTION DATE  STOCKOUT  \n",
       "0         1/2/2015         0  \n",
       "1         1/2/2015         0  \n",
       "2         1/2/2015         0  \n",
       "3         1/2/2015         0  \n",
       "4         1/2/2015         0  "
      ]
     },
     "execution_count": 5,
     "metadata": {},
     "output_type": "execute_result"
    }
   ],
   "source": [
    "#Sep was used so that each rows can fall in appropirate column\n",
    "transD = pd.read_csv(\"./Transaction_Data.csv\", sep = \"|\")\n",
    "transD.head()"
   ]
  },
  {
   "cell_type": "code",
   "execution_count": 6,
   "metadata": {},
   "outputs": [],
   "source": [
    "#step 2: check the data types "
   ]
  },
  {
   "cell_type": "code",
   "execution_count": 7,
   "metadata": {},
   "outputs": [
    {
     "data": {
      "text/plain": [
       "CUSTOMERID           int64\n",
       "GENDER               int64\n",
       "AGE                  int64\n",
       "INCOME              object\n",
       "EXPERIENCE SCORE     int64\n",
       "LOYALTY GROUP       object\n",
       "ENROLLMENT DATE     object\n",
       "HOUSEHOLD SIZE       int64\n",
       "MARITAL STATUS      object\n",
       "dtype: object"
      ]
     },
     "execution_count": 7,
     "metadata": {},
     "output_type": "execute_result"
    }
   ],
   "source": [
    "customerD.dtypes"
   ]
  },
  {
   "cell_type": "code",
   "execution_count": 8,
   "metadata": {},
   "outputs": [
    {
     "data": {
      "text/plain": [
       "PRODUCT CODE         int64\n",
       "PRODUCT CATEGORY    object\n",
       "UNIT LIST PRICE     object\n",
       "dtype: object"
      ]
     },
     "execution_count": 8,
     "metadata": {},
     "output_type": "execute_result"
    }
   ],
   "source": [
    "productD.dtypes"
   ]
  },
  {
   "cell_type": "code",
   "execution_count": 9,
   "metadata": {},
   "outputs": [
    {
     "data": {
      "text/plain": [
       "CUSTOMER NUM            int64\n",
       "PRODUCT NUM             int64\n",
       "QUANTITY PURCHASED      int64\n",
       "DISCOUNT TAKEN        float64\n",
       "TRANSACTION DATE       object\n",
       "STOCKOUT                int64\n",
       "dtype: object"
      ]
     },
     "execution_count": 9,
     "metadata": {},
     "output_type": "execute_result"
    }
   ],
   "source": [
    "transD.dtypes"
   ]
  },
  {
   "cell_type": "code",
   "execution_count": 10,
   "metadata": {},
   "outputs": [],
   "source": [
    "#step3: change each column to its appropriate data type\n",
    "# FOR ENROLLMENT COULUM AND INCOME TYPES HAS TO BE CHANGED\n",
    "#INCOME\n",
    "customerD['INCOME']=customerD['INCOME'].map(lambda x : x.replace('$',''))"
   ]
  },
  {
   "cell_type": "code",
   "execution_count": 11,
   "metadata": {},
   "outputs": [],
   "source": [
    "customerD['INCOME']=customerD['INCOME'].map(lambda x : int(x.replace(',','')))"
   ]
  },
  {
   "cell_type": "code",
   "execution_count": 12,
   "metadata": {},
   "outputs": [
    {
     "data": {
      "text/plain": [
       "dtype('int64')"
      ]
     },
     "execution_count": 12,
     "metadata": {},
     "output_type": "execute_result"
    }
   ],
   "source": [
    "customerD['INCOME'].dtypes"
   ]
  },
  {
   "cell_type": "code",
   "execution_count": 13,
   "metadata": {},
   "outputs": [],
   "source": [
    "#Changing enrollment date from object to datetime\n",
    "from datetime import datetime"
   ]
  },
  {
   "cell_type": "code",
   "execution_count": 14,
   "metadata": {},
   "outputs": [],
   "source": [
    "customerD['ENROLLMENT DATE']=\\\n",
    "customerD['ENROLLMENT DATE'][customerD['ENROLLMENT DATE'].notnull()].map(lambda x :datetime.strptime(x, '%d-%m-%Y'))"
   ]
  },
  {
   "cell_type": "code",
   "execution_count": 15,
   "metadata": {},
   "outputs": [
    {
     "data": {
      "text/plain": [
       "CUSTOMERID                   int64\n",
       "GENDER                       int64\n",
       "AGE                          int64\n",
       "INCOME                       int64\n",
       "EXPERIENCE SCORE             int64\n",
       "LOYALTY GROUP               object\n",
       "ENROLLMENT DATE     datetime64[ns]\n",
       "HOUSEHOLD SIZE               int64\n",
       "MARITAL STATUS              object\n",
       "dtype: object"
      ]
     },
     "execution_count": 15,
     "metadata": {},
     "output_type": "execute_result"
    }
   ],
   "source": [
    "customerD.dtypes"
   ]
  },
  {
   "cell_type": "code",
   "execution_count": 16,
   "metadata": {},
   "outputs": [],
   "source": [
    "#step 4: get the statistics for the customer data"
   ]
  },
  {
   "cell_type": "code",
   "execution_count": 17,
   "metadata": {},
   "outputs": [
    {
     "data": {
      "text/html": [
       "<div>\n",
       "<style scoped>\n",
       "    .dataframe tbody tr th:only-of-type {\n",
       "        vertical-align: middle;\n",
       "    }\n",
       "\n",
       "    .dataframe tbody tr th {\n",
       "        vertical-align: top;\n",
       "    }\n",
       "\n",
       "    .dataframe thead th {\n",
       "        text-align: right;\n",
       "    }\n",
       "</style>\n",
       "<table border=\"1\" class=\"dataframe\">\n",
       "  <thead>\n",
       "    <tr style=\"text-align: right;\">\n",
       "      <th></th>\n",
       "      <th>CUSTOMERID</th>\n",
       "      <th>GENDER</th>\n",
       "      <th>AGE</th>\n",
       "      <th>INCOME</th>\n",
       "      <th>EXPERIENCE SCORE</th>\n",
       "      <th>LOYALTY GROUP</th>\n",
       "      <th>ENROLLMENT DATE</th>\n",
       "      <th>HOUSEHOLD SIZE</th>\n",
       "      <th>MARITAL STATUS</th>\n",
       "    </tr>\n",
       "  </thead>\n",
       "  <tbody>\n",
       "    <tr>\n",
       "      <th>count</th>\n",
       "      <td>500.000000</td>\n",
       "      <td>500.000000</td>\n",
       "      <td>500.000000</td>\n",
       "      <td>500.000000</td>\n",
       "      <td>500.000000</td>\n",
       "      <td>500</td>\n",
       "      <td>264</td>\n",
       "      <td>500.000000</td>\n",
       "      <td>500</td>\n",
       "    </tr>\n",
       "    <tr>\n",
       "      <th>unique</th>\n",
       "      <td>NaN</td>\n",
       "      <td>NaN</td>\n",
       "      <td>NaN</td>\n",
       "      <td>NaN</td>\n",
       "      <td>NaN</td>\n",
       "      <td>2</td>\n",
       "      <td>256</td>\n",
       "      <td>NaN</td>\n",
       "      <td>4</td>\n",
       "    </tr>\n",
       "    <tr>\n",
       "      <th>top</th>\n",
       "      <td>NaN</td>\n",
       "      <td>NaN</td>\n",
       "      <td>NaN</td>\n",
       "      <td>NaN</td>\n",
       "      <td>NaN</td>\n",
       "      <td>enrolled</td>\n",
       "      <td>2015-07-26 00:00:00</td>\n",
       "      <td>NaN</td>\n",
       "      <td>Married</td>\n",
       "    </tr>\n",
       "    <tr>\n",
       "      <th>freq</th>\n",
       "      <td>NaN</td>\n",
       "      <td>NaN</td>\n",
       "      <td>NaN</td>\n",
       "      <td>NaN</td>\n",
       "      <td>NaN</td>\n",
       "      <td>264</td>\n",
       "      <td>2</td>\n",
       "      <td>NaN</td>\n",
       "      <td>267</td>\n",
       "    </tr>\n",
       "    <tr>\n",
       "      <th>first</th>\n",
       "      <td>NaN</td>\n",
       "      <td>NaN</td>\n",
       "      <td>NaN</td>\n",
       "      <td>NaN</td>\n",
       "      <td>NaN</td>\n",
       "      <td>NaN</td>\n",
       "      <td>2003-03-07 00:00:00</td>\n",
       "      <td>NaN</td>\n",
       "      <td>NaN</td>\n",
       "    </tr>\n",
       "    <tr>\n",
       "      <th>last</th>\n",
       "      <td>NaN</td>\n",
       "      <td>NaN</td>\n",
       "      <td>NaN</td>\n",
       "      <td>NaN</td>\n",
       "      <td>NaN</td>\n",
       "      <td>NaN</td>\n",
       "      <td>2016-12-24 00:00:00</td>\n",
       "      <td>NaN</td>\n",
       "      <td>NaN</td>\n",
       "    </tr>\n",
       "    <tr>\n",
       "      <th>mean</th>\n",
       "      <td>10250.500000</td>\n",
       "      <td>0.498000</td>\n",
       "      <td>42.316000</td>\n",
       "      <td>85792.482000</td>\n",
       "      <td>6.554000</td>\n",
       "      <td>NaN</td>\n",
       "      <td>NaN</td>\n",
       "      <td>2.894000</td>\n",
       "      <td>NaN</td>\n",
       "    </tr>\n",
       "    <tr>\n",
       "      <th>std</th>\n",
       "      <td>144.481833</td>\n",
       "      <td>0.500497</td>\n",
       "      <td>17.567509</td>\n",
       "      <td>37157.766304</td>\n",
       "      <td>2.497912</td>\n",
       "      <td>NaN</td>\n",
       "      <td>NaN</td>\n",
       "      <td>1.597457</td>\n",
       "      <td>NaN</td>\n",
       "    </tr>\n",
       "    <tr>\n",
       "      <th>min</th>\n",
       "      <td>10001.000000</td>\n",
       "      <td>0.000000</td>\n",
       "      <td>18.000000</td>\n",
       "      <td>20256.000000</td>\n",
       "      <td>1.000000</td>\n",
       "      <td>NaN</td>\n",
       "      <td>NaN</td>\n",
       "      <td>1.000000</td>\n",
       "      <td>NaN</td>\n",
       "    </tr>\n",
       "    <tr>\n",
       "      <th>25%</th>\n",
       "      <td>10125.750000</td>\n",
       "      <td>0.000000</td>\n",
       "      <td>30.000000</td>\n",
       "      <td>52429.000000</td>\n",
       "      <td>5.000000</td>\n",
       "      <td>NaN</td>\n",
       "      <td>NaN</td>\n",
       "      <td>2.000000</td>\n",
       "      <td>NaN</td>\n",
       "    </tr>\n",
       "    <tr>\n",
       "      <th>50%</th>\n",
       "      <td>10250.500000</td>\n",
       "      <td>0.000000</td>\n",
       "      <td>39.000000</td>\n",
       "      <td>86846.500000</td>\n",
       "      <td>7.000000</td>\n",
       "      <td>NaN</td>\n",
       "      <td>NaN</td>\n",
       "      <td>3.000000</td>\n",
       "      <td>NaN</td>\n",
       "    </tr>\n",
       "    <tr>\n",
       "      <th>75%</th>\n",
       "      <td>10375.250000</td>\n",
       "      <td>1.000000</td>\n",
       "      <td>50.250000</td>\n",
       "      <td>118381.000000</td>\n",
       "      <td>9.000000</td>\n",
       "      <td>NaN</td>\n",
       "      <td>NaN</td>\n",
       "      <td>4.000000</td>\n",
       "      <td>NaN</td>\n",
       "    </tr>\n",
       "    <tr>\n",
       "      <th>max</th>\n",
       "      <td>10500.000000</td>\n",
       "      <td>1.000000</td>\n",
       "      <td>90.000000</td>\n",
       "      <td>149999.000000</td>\n",
       "      <td>10.000000</td>\n",
       "      <td>NaN</td>\n",
       "      <td>NaN</td>\n",
       "      <td>6.000000</td>\n",
       "      <td>NaN</td>\n",
       "    </tr>\n",
       "  </tbody>\n",
       "</table>\n",
       "</div>"
      ],
      "text/plain": [
       "          CUSTOMERID      GENDER         AGE         INCOME  EXPERIENCE SCORE  \\\n",
       "count     500.000000  500.000000  500.000000     500.000000        500.000000   \n",
       "unique           NaN         NaN         NaN            NaN               NaN   \n",
       "top              NaN         NaN         NaN            NaN               NaN   \n",
       "freq             NaN         NaN         NaN            NaN               NaN   \n",
       "first            NaN         NaN         NaN            NaN               NaN   \n",
       "last             NaN         NaN         NaN            NaN               NaN   \n",
       "mean    10250.500000    0.498000   42.316000   85792.482000          6.554000   \n",
       "std       144.481833    0.500497   17.567509   37157.766304          2.497912   \n",
       "min     10001.000000    0.000000   18.000000   20256.000000          1.000000   \n",
       "25%     10125.750000    0.000000   30.000000   52429.000000          5.000000   \n",
       "50%     10250.500000    0.000000   39.000000   86846.500000          7.000000   \n",
       "75%     10375.250000    1.000000   50.250000  118381.000000          9.000000   \n",
       "max     10500.000000    1.000000   90.000000  149999.000000         10.000000   \n",
       "\n",
       "       LOYALTY GROUP      ENROLLMENT DATE  HOUSEHOLD SIZE MARITAL STATUS  \n",
       "count            500                  264      500.000000            500  \n",
       "unique             2                  256             NaN              4  \n",
       "top         enrolled  2015-07-26 00:00:00             NaN        Married  \n",
       "freq             264                    2             NaN            267  \n",
       "first            NaN  2003-03-07 00:00:00             NaN            NaN  \n",
       "last             NaN  2016-12-24 00:00:00             NaN            NaN  \n",
       "mean             NaN                  NaN        2.894000            NaN  \n",
       "std              NaN                  NaN        1.597457            NaN  \n",
       "min              NaN                  NaN        1.000000            NaN  \n",
       "25%              NaN                  NaN        2.000000            NaN  \n",
       "50%              NaN                  NaN        3.000000            NaN  \n",
       "75%              NaN                  NaN        4.000000            NaN  \n",
       "max              NaN                  NaN        6.000000            NaN  "
      ]
     },
     "execution_count": 17,
     "metadata": {},
     "output_type": "execute_result"
    }
   ],
   "source": [
    "customerD.describe(include = \"all\")"
   ]
  },
  {
   "cell_type": "code",
   "execution_count": 18,
   "metadata": {},
   "outputs": [],
   "source": [
    "# step 5: check the unique data in the marital column to check if the marital status affect customer loyalty"
   ]
  },
  {
   "cell_type": "code",
   "execution_count": 19,
   "metadata": {},
   "outputs": [
    {
     "data": {
      "text/plain": [
       "array(['Single', 'Married', 'Divorced', 'Widow/Widower'], dtype=object)"
      ]
     },
     "execution_count": 19,
     "metadata": {},
     "output_type": "execute_result"
    }
   ],
   "source": [
    "customerD['MARITAL STATUS'].unique()"
   ]
  },
  {
   "cell_type": "code",
   "execution_count": 20,
   "metadata": {},
   "outputs": [
    {
     "name": "stdout",
     "output_type": "stream",
     "text": [
      "null values for customer data : True\n",
      "null values for transaction data : False\n",
      "null values for product data : False\n"
     ]
    }
   ],
   "source": [
    "#step 6: check for any empty cell in your data set\n",
    "print('null values for customer data :', customerD.isnull().values.any())\n",
    "print('null values for transaction data :', transD.isnull().values.any())\n",
    "print('null values for product data :', productD.isnull().values.any() )"
   ]
  },
  {
   "cell_type": "code",
   "execution_count": 21,
   "metadata": {},
   "outputs": [
    {
     "data": {
      "text/html": [
       "<div>\n",
       "<style scoped>\n",
       "    .dataframe tbody tr th:only-of-type {\n",
       "        vertical-align: middle;\n",
       "    }\n",
       "\n",
       "    .dataframe tbody tr th {\n",
       "        vertical-align: top;\n",
       "    }\n",
       "\n",
       "    .dataframe thead th {\n",
       "        text-align: right;\n",
       "    }\n",
       "</style>\n",
       "<table border=\"1\" class=\"dataframe\">\n",
       "  <thead>\n",
       "    <tr style=\"text-align: right;\">\n",
       "      <th></th>\n",
       "      <th>CUSTOMERID</th>\n",
       "      <th>GENDER</th>\n",
       "      <th>AGE</th>\n",
       "      <th>INCOME</th>\n",
       "      <th>EXPERIENCE SCORE</th>\n",
       "      <th>LOYALTY GROUP</th>\n",
       "      <th>ENROLLMENT DATE</th>\n",
       "      <th>HOUSEHOLD SIZE</th>\n",
       "      <th>MARITAL STATUS</th>\n",
       "    </tr>\n",
       "  </thead>\n",
       "  <tbody>\n",
       "    <tr>\n",
       "      <th>0</th>\n",
       "      <td>True</td>\n",
       "      <td>True</td>\n",
       "      <td>True</td>\n",
       "      <td>True</td>\n",
       "      <td>True</td>\n",
       "      <td>True</td>\n",
       "      <td>True</td>\n",
       "      <td>True</td>\n",
       "      <td>True</td>\n",
       "    </tr>\n",
       "    <tr>\n",
       "      <th>1</th>\n",
       "      <td>True</td>\n",
       "      <td>True</td>\n",
       "      <td>True</td>\n",
       "      <td>True</td>\n",
       "      <td>True</td>\n",
       "      <td>True</td>\n",
       "      <td>False</td>\n",
       "      <td>True</td>\n",
       "      <td>True</td>\n",
       "    </tr>\n",
       "    <tr>\n",
       "      <th>2</th>\n",
       "      <td>True</td>\n",
       "      <td>True</td>\n",
       "      <td>True</td>\n",
       "      <td>True</td>\n",
       "      <td>True</td>\n",
       "      <td>True</td>\n",
       "      <td>True</td>\n",
       "      <td>True</td>\n",
       "      <td>True</td>\n",
       "    </tr>\n",
       "    <tr>\n",
       "      <th>3</th>\n",
       "      <td>True</td>\n",
       "      <td>True</td>\n",
       "      <td>True</td>\n",
       "      <td>True</td>\n",
       "      <td>True</td>\n",
       "      <td>True</td>\n",
       "      <td>True</td>\n",
       "      <td>True</td>\n",
       "      <td>True</td>\n",
       "    </tr>\n",
       "    <tr>\n",
       "      <th>4</th>\n",
       "      <td>True</td>\n",
       "      <td>True</td>\n",
       "      <td>True</td>\n",
       "      <td>True</td>\n",
       "      <td>True</td>\n",
       "      <td>True</td>\n",
       "      <td>False</td>\n",
       "      <td>True</td>\n",
       "      <td>True</td>\n",
       "    </tr>\n",
       "    <tr>\n",
       "      <th>5</th>\n",
       "      <td>True</td>\n",
       "      <td>True</td>\n",
       "      <td>True</td>\n",
       "      <td>True</td>\n",
       "      <td>True</td>\n",
       "      <td>True</td>\n",
       "      <td>False</td>\n",
       "      <td>True</td>\n",
       "      <td>True</td>\n",
       "    </tr>\n",
       "    <tr>\n",
       "      <th>6</th>\n",
       "      <td>True</td>\n",
       "      <td>True</td>\n",
       "      <td>True</td>\n",
       "      <td>True</td>\n",
       "      <td>True</td>\n",
       "      <td>True</td>\n",
       "      <td>True</td>\n",
       "      <td>True</td>\n",
       "      <td>True</td>\n",
       "    </tr>\n",
       "    <tr>\n",
       "      <th>7</th>\n",
       "      <td>True</td>\n",
       "      <td>True</td>\n",
       "      <td>True</td>\n",
       "      <td>True</td>\n",
       "      <td>True</td>\n",
       "      <td>True</td>\n",
       "      <td>True</td>\n",
       "      <td>True</td>\n",
       "      <td>True</td>\n",
       "    </tr>\n",
       "    <tr>\n",
       "      <th>8</th>\n",
       "      <td>True</td>\n",
       "      <td>True</td>\n",
       "      <td>True</td>\n",
       "      <td>True</td>\n",
       "      <td>True</td>\n",
       "      <td>True</td>\n",
       "      <td>True</td>\n",
       "      <td>True</td>\n",
       "      <td>True</td>\n",
       "    </tr>\n",
       "    <tr>\n",
       "      <th>9</th>\n",
       "      <td>True</td>\n",
       "      <td>True</td>\n",
       "      <td>True</td>\n",
       "      <td>True</td>\n",
       "      <td>True</td>\n",
       "      <td>True</td>\n",
       "      <td>False</td>\n",
       "      <td>True</td>\n",
       "      <td>True</td>\n",
       "    </tr>\n",
       "    <tr>\n",
       "      <th>10</th>\n",
       "      <td>True</td>\n",
       "      <td>True</td>\n",
       "      <td>True</td>\n",
       "      <td>True</td>\n",
       "      <td>True</td>\n",
       "      <td>True</td>\n",
       "      <td>False</td>\n",
       "      <td>True</td>\n",
       "      <td>True</td>\n",
       "    </tr>\n",
       "    <tr>\n",
       "      <th>11</th>\n",
       "      <td>True</td>\n",
       "      <td>True</td>\n",
       "      <td>True</td>\n",
       "      <td>True</td>\n",
       "      <td>True</td>\n",
       "      <td>True</td>\n",
       "      <td>False</td>\n",
       "      <td>True</td>\n",
       "      <td>True</td>\n",
       "    </tr>\n",
       "    <tr>\n",
       "      <th>12</th>\n",
       "      <td>True</td>\n",
       "      <td>True</td>\n",
       "      <td>True</td>\n",
       "      <td>True</td>\n",
       "      <td>True</td>\n",
       "      <td>True</td>\n",
       "      <td>False</td>\n",
       "      <td>True</td>\n",
       "      <td>True</td>\n",
       "    </tr>\n",
       "    <tr>\n",
       "      <th>13</th>\n",
       "      <td>True</td>\n",
       "      <td>True</td>\n",
       "      <td>True</td>\n",
       "      <td>True</td>\n",
       "      <td>True</td>\n",
       "      <td>True</td>\n",
       "      <td>False</td>\n",
       "      <td>True</td>\n",
       "      <td>True</td>\n",
       "    </tr>\n",
       "    <tr>\n",
       "      <th>14</th>\n",
       "      <td>True</td>\n",
       "      <td>True</td>\n",
       "      <td>True</td>\n",
       "      <td>True</td>\n",
       "      <td>True</td>\n",
       "      <td>True</td>\n",
       "      <td>True</td>\n",
       "      <td>True</td>\n",
       "      <td>True</td>\n",
       "    </tr>\n",
       "    <tr>\n",
       "      <th>15</th>\n",
       "      <td>True</td>\n",
       "      <td>True</td>\n",
       "      <td>True</td>\n",
       "      <td>True</td>\n",
       "      <td>True</td>\n",
       "      <td>True</td>\n",
       "      <td>False</td>\n",
       "      <td>True</td>\n",
       "      <td>True</td>\n",
       "    </tr>\n",
       "    <tr>\n",
       "      <th>16</th>\n",
       "      <td>True</td>\n",
       "      <td>True</td>\n",
       "      <td>True</td>\n",
       "      <td>True</td>\n",
       "      <td>True</td>\n",
       "      <td>True</td>\n",
       "      <td>True</td>\n",
       "      <td>True</td>\n",
       "      <td>True</td>\n",
       "    </tr>\n",
       "    <tr>\n",
       "      <th>17</th>\n",
       "      <td>True</td>\n",
       "      <td>True</td>\n",
       "      <td>True</td>\n",
       "      <td>True</td>\n",
       "      <td>True</td>\n",
       "      <td>True</td>\n",
       "      <td>True</td>\n",
       "      <td>True</td>\n",
       "      <td>True</td>\n",
       "    </tr>\n",
       "    <tr>\n",
       "      <th>18</th>\n",
       "      <td>True</td>\n",
       "      <td>True</td>\n",
       "      <td>True</td>\n",
       "      <td>True</td>\n",
       "      <td>True</td>\n",
       "      <td>True</td>\n",
       "      <td>True</td>\n",
       "      <td>True</td>\n",
       "      <td>True</td>\n",
       "    </tr>\n",
       "    <tr>\n",
       "      <th>19</th>\n",
       "      <td>True</td>\n",
       "      <td>True</td>\n",
       "      <td>True</td>\n",
       "      <td>True</td>\n",
       "      <td>True</td>\n",
       "      <td>True</td>\n",
       "      <td>False</td>\n",
       "      <td>True</td>\n",
       "      <td>True</td>\n",
       "    </tr>\n",
       "    <tr>\n",
       "      <th>20</th>\n",
       "      <td>True</td>\n",
       "      <td>True</td>\n",
       "      <td>True</td>\n",
       "      <td>True</td>\n",
       "      <td>True</td>\n",
       "      <td>True</td>\n",
       "      <td>True</td>\n",
       "      <td>True</td>\n",
       "      <td>True</td>\n",
       "    </tr>\n",
       "    <tr>\n",
       "      <th>21</th>\n",
       "      <td>True</td>\n",
       "      <td>True</td>\n",
       "      <td>True</td>\n",
       "      <td>True</td>\n",
       "      <td>True</td>\n",
       "      <td>True</td>\n",
       "      <td>True</td>\n",
       "      <td>True</td>\n",
       "      <td>True</td>\n",
       "    </tr>\n",
       "    <tr>\n",
       "      <th>22</th>\n",
       "      <td>True</td>\n",
       "      <td>True</td>\n",
       "      <td>True</td>\n",
       "      <td>True</td>\n",
       "      <td>True</td>\n",
       "      <td>True</td>\n",
       "      <td>True</td>\n",
       "      <td>True</td>\n",
       "      <td>True</td>\n",
       "    </tr>\n",
       "    <tr>\n",
       "      <th>23</th>\n",
       "      <td>True</td>\n",
       "      <td>True</td>\n",
       "      <td>True</td>\n",
       "      <td>True</td>\n",
       "      <td>True</td>\n",
       "      <td>True</td>\n",
       "      <td>False</td>\n",
       "      <td>True</td>\n",
       "      <td>True</td>\n",
       "    </tr>\n",
       "    <tr>\n",
       "      <th>24</th>\n",
       "      <td>True</td>\n",
       "      <td>True</td>\n",
       "      <td>True</td>\n",
       "      <td>True</td>\n",
       "      <td>True</td>\n",
       "      <td>True</td>\n",
       "      <td>True</td>\n",
       "      <td>True</td>\n",
       "      <td>True</td>\n",
       "    </tr>\n",
       "    <tr>\n",
       "      <th>25</th>\n",
       "      <td>True</td>\n",
       "      <td>True</td>\n",
       "      <td>True</td>\n",
       "      <td>True</td>\n",
       "      <td>True</td>\n",
       "      <td>True</td>\n",
       "      <td>True</td>\n",
       "      <td>True</td>\n",
       "      <td>True</td>\n",
       "    </tr>\n",
       "    <tr>\n",
       "      <th>26</th>\n",
       "      <td>True</td>\n",
       "      <td>True</td>\n",
       "      <td>True</td>\n",
       "      <td>True</td>\n",
       "      <td>True</td>\n",
       "      <td>True</td>\n",
       "      <td>True</td>\n",
       "      <td>True</td>\n",
       "      <td>True</td>\n",
       "    </tr>\n",
       "    <tr>\n",
       "      <th>27</th>\n",
       "      <td>True</td>\n",
       "      <td>True</td>\n",
       "      <td>True</td>\n",
       "      <td>True</td>\n",
       "      <td>True</td>\n",
       "      <td>True</td>\n",
       "      <td>False</td>\n",
       "      <td>True</td>\n",
       "      <td>True</td>\n",
       "    </tr>\n",
       "    <tr>\n",
       "      <th>28</th>\n",
       "      <td>True</td>\n",
       "      <td>True</td>\n",
       "      <td>True</td>\n",
       "      <td>True</td>\n",
       "      <td>True</td>\n",
       "      <td>True</td>\n",
       "      <td>True</td>\n",
       "      <td>True</td>\n",
       "      <td>True</td>\n",
       "    </tr>\n",
       "    <tr>\n",
       "      <th>29</th>\n",
       "      <td>True</td>\n",
       "      <td>True</td>\n",
       "      <td>True</td>\n",
       "      <td>True</td>\n",
       "      <td>True</td>\n",
       "      <td>True</td>\n",
       "      <td>True</td>\n",
       "      <td>True</td>\n",
       "      <td>True</td>\n",
       "    </tr>\n",
       "    <tr>\n",
       "      <th>...</th>\n",
       "      <td>...</td>\n",
       "      <td>...</td>\n",
       "      <td>...</td>\n",
       "      <td>...</td>\n",
       "      <td>...</td>\n",
       "      <td>...</td>\n",
       "      <td>...</td>\n",
       "      <td>...</td>\n",
       "      <td>...</td>\n",
       "    </tr>\n",
       "    <tr>\n",
       "      <th>470</th>\n",
       "      <td>True</td>\n",
       "      <td>True</td>\n",
       "      <td>True</td>\n",
       "      <td>True</td>\n",
       "      <td>True</td>\n",
       "      <td>True</td>\n",
       "      <td>True</td>\n",
       "      <td>True</td>\n",
       "      <td>True</td>\n",
       "    </tr>\n",
       "    <tr>\n",
       "      <th>471</th>\n",
       "      <td>True</td>\n",
       "      <td>True</td>\n",
       "      <td>True</td>\n",
       "      <td>True</td>\n",
       "      <td>True</td>\n",
       "      <td>True</td>\n",
       "      <td>False</td>\n",
       "      <td>True</td>\n",
       "      <td>True</td>\n",
       "    </tr>\n",
       "    <tr>\n",
       "      <th>472</th>\n",
       "      <td>True</td>\n",
       "      <td>True</td>\n",
       "      <td>True</td>\n",
       "      <td>True</td>\n",
       "      <td>True</td>\n",
       "      <td>True</td>\n",
       "      <td>True</td>\n",
       "      <td>True</td>\n",
       "      <td>True</td>\n",
       "    </tr>\n",
       "    <tr>\n",
       "      <th>473</th>\n",
       "      <td>True</td>\n",
       "      <td>True</td>\n",
       "      <td>True</td>\n",
       "      <td>True</td>\n",
       "      <td>True</td>\n",
       "      <td>True</td>\n",
       "      <td>True</td>\n",
       "      <td>True</td>\n",
       "      <td>True</td>\n",
       "    </tr>\n",
       "    <tr>\n",
       "      <th>474</th>\n",
       "      <td>True</td>\n",
       "      <td>True</td>\n",
       "      <td>True</td>\n",
       "      <td>True</td>\n",
       "      <td>True</td>\n",
       "      <td>True</td>\n",
       "      <td>True</td>\n",
       "      <td>True</td>\n",
       "      <td>True</td>\n",
       "    </tr>\n",
       "    <tr>\n",
       "      <th>475</th>\n",
       "      <td>True</td>\n",
       "      <td>True</td>\n",
       "      <td>True</td>\n",
       "      <td>True</td>\n",
       "      <td>True</td>\n",
       "      <td>True</td>\n",
       "      <td>True</td>\n",
       "      <td>True</td>\n",
       "      <td>True</td>\n",
       "    </tr>\n",
       "    <tr>\n",
       "      <th>476</th>\n",
       "      <td>True</td>\n",
       "      <td>True</td>\n",
       "      <td>True</td>\n",
       "      <td>True</td>\n",
       "      <td>True</td>\n",
       "      <td>True</td>\n",
       "      <td>True</td>\n",
       "      <td>True</td>\n",
       "      <td>True</td>\n",
       "    </tr>\n",
       "    <tr>\n",
       "      <th>477</th>\n",
       "      <td>True</td>\n",
       "      <td>True</td>\n",
       "      <td>True</td>\n",
       "      <td>True</td>\n",
       "      <td>True</td>\n",
       "      <td>True</td>\n",
       "      <td>False</td>\n",
       "      <td>True</td>\n",
       "      <td>True</td>\n",
       "    </tr>\n",
       "    <tr>\n",
       "      <th>478</th>\n",
       "      <td>True</td>\n",
       "      <td>True</td>\n",
       "      <td>True</td>\n",
       "      <td>True</td>\n",
       "      <td>True</td>\n",
       "      <td>True</td>\n",
       "      <td>True</td>\n",
       "      <td>True</td>\n",
       "      <td>True</td>\n",
       "    </tr>\n",
       "    <tr>\n",
       "      <th>479</th>\n",
       "      <td>True</td>\n",
       "      <td>True</td>\n",
       "      <td>True</td>\n",
       "      <td>True</td>\n",
       "      <td>True</td>\n",
       "      <td>True</td>\n",
       "      <td>True</td>\n",
       "      <td>True</td>\n",
       "      <td>True</td>\n",
       "    </tr>\n",
       "    <tr>\n",
       "      <th>480</th>\n",
       "      <td>True</td>\n",
       "      <td>True</td>\n",
       "      <td>True</td>\n",
       "      <td>True</td>\n",
       "      <td>True</td>\n",
       "      <td>True</td>\n",
       "      <td>False</td>\n",
       "      <td>True</td>\n",
       "      <td>True</td>\n",
       "    </tr>\n",
       "    <tr>\n",
       "      <th>481</th>\n",
       "      <td>True</td>\n",
       "      <td>True</td>\n",
       "      <td>True</td>\n",
       "      <td>True</td>\n",
       "      <td>True</td>\n",
       "      <td>True</td>\n",
       "      <td>True</td>\n",
       "      <td>True</td>\n",
       "      <td>True</td>\n",
       "    </tr>\n",
       "    <tr>\n",
       "      <th>482</th>\n",
       "      <td>True</td>\n",
       "      <td>True</td>\n",
       "      <td>True</td>\n",
       "      <td>True</td>\n",
       "      <td>True</td>\n",
       "      <td>True</td>\n",
       "      <td>True</td>\n",
       "      <td>True</td>\n",
       "      <td>True</td>\n",
       "    </tr>\n",
       "    <tr>\n",
       "      <th>483</th>\n",
       "      <td>True</td>\n",
       "      <td>True</td>\n",
       "      <td>True</td>\n",
       "      <td>True</td>\n",
       "      <td>True</td>\n",
       "      <td>True</td>\n",
       "      <td>True</td>\n",
       "      <td>True</td>\n",
       "      <td>True</td>\n",
       "    </tr>\n",
       "    <tr>\n",
       "      <th>484</th>\n",
       "      <td>True</td>\n",
       "      <td>True</td>\n",
       "      <td>True</td>\n",
       "      <td>True</td>\n",
       "      <td>True</td>\n",
       "      <td>True</td>\n",
       "      <td>False</td>\n",
       "      <td>True</td>\n",
       "      <td>True</td>\n",
       "    </tr>\n",
       "    <tr>\n",
       "      <th>485</th>\n",
       "      <td>True</td>\n",
       "      <td>True</td>\n",
       "      <td>True</td>\n",
       "      <td>True</td>\n",
       "      <td>True</td>\n",
       "      <td>True</td>\n",
       "      <td>False</td>\n",
       "      <td>True</td>\n",
       "      <td>True</td>\n",
       "    </tr>\n",
       "    <tr>\n",
       "      <th>486</th>\n",
       "      <td>True</td>\n",
       "      <td>True</td>\n",
       "      <td>True</td>\n",
       "      <td>True</td>\n",
       "      <td>True</td>\n",
       "      <td>True</td>\n",
       "      <td>True</td>\n",
       "      <td>True</td>\n",
       "      <td>True</td>\n",
       "    </tr>\n",
       "    <tr>\n",
       "      <th>487</th>\n",
       "      <td>True</td>\n",
       "      <td>True</td>\n",
       "      <td>True</td>\n",
       "      <td>True</td>\n",
       "      <td>True</td>\n",
       "      <td>True</td>\n",
       "      <td>True</td>\n",
       "      <td>True</td>\n",
       "      <td>True</td>\n",
       "    </tr>\n",
       "    <tr>\n",
       "      <th>488</th>\n",
       "      <td>True</td>\n",
       "      <td>True</td>\n",
       "      <td>True</td>\n",
       "      <td>True</td>\n",
       "      <td>True</td>\n",
       "      <td>True</td>\n",
       "      <td>False</td>\n",
       "      <td>True</td>\n",
       "      <td>True</td>\n",
       "    </tr>\n",
       "    <tr>\n",
       "      <th>489</th>\n",
       "      <td>True</td>\n",
       "      <td>True</td>\n",
       "      <td>True</td>\n",
       "      <td>True</td>\n",
       "      <td>True</td>\n",
       "      <td>True</td>\n",
       "      <td>True</td>\n",
       "      <td>True</td>\n",
       "      <td>True</td>\n",
       "    </tr>\n",
       "    <tr>\n",
       "      <th>490</th>\n",
       "      <td>True</td>\n",
       "      <td>True</td>\n",
       "      <td>True</td>\n",
       "      <td>True</td>\n",
       "      <td>True</td>\n",
       "      <td>True</td>\n",
       "      <td>True</td>\n",
       "      <td>True</td>\n",
       "      <td>True</td>\n",
       "    </tr>\n",
       "    <tr>\n",
       "      <th>491</th>\n",
       "      <td>True</td>\n",
       "      <td>True</td>\n",
       "      <td>True</td>\n",
       "      <td>True</td>\n",
       "      <td>True</td>\n",
       "      <td>True</td>\n",
       "      <td>True</td>\n",
       "      <td>True</td>\n",
       "      <td>True</td>\n",
       "    </tr>\n",
       "    <tr>\n",
       "      <th>492</th>\n",
       "      <td>True</td>\n",
       "      <td>True</td>\n",
       "      <td>True</td>\n",
       "      <td>True</td>\n",
       "      <td>True</td>\n",
       "      <td>True</td>\n",
       "      <td>True</td>\n",
       "      <td>True</td>\n",
       "      <td>True</td>\n",
       "    </tr>\n",
       "    <tr>\n",
       "      <th>493</th>\n",
       "      <td>True</td>\n",
       "      <td>True</td>\n",
       "      <td>True</td>\n",
       "      <td>True</td>\n",
       "      <td>True</td>\n",
       "      <td>True</td>\n",
       "      <td>True</td>\n",
       "      <td>True</td>\n",
       "      <td>True</td>\n",
       "    </tr>\n",
       "    <tr>\n",
       "      <th>494</th>\n",
       "      <td>True</td>\n",
       "      <td>True</td>\n",
       "      <td>True</td>\n",
       "      <td>True</td>\n",
       "      <td>True</td>\n",
       "      <td>True</td>\n",
       "      <td>False</td>\n",
       "      <td>True</td>\n",
       "      <td>True</td>\n",
       "    </tr>\n",
       "    <tr>\n",
       "      <th>495</th>\n",
       "      <td>True</td>\n",
       "      <td>True</td>\n",
       "      <td>True</td>\n",
       "      <td>True</td>\n",
       "      <td>True</td>\n",
       "      <td>True</td>\n",
       "      <td>True</td>\n",
       "      <td>True</td>\n",
       "      <td>True</td>\n",
       "    </tr>\n",
       "    <tr>\n",
       "      <th>496</th>\n",
       "      <td>True</td>\n",
       "      <td>True</td>\n",
       "      <td>True</td>\n",
       "      <td>True</td>\n",
       "      <td>True</td>\n",
       "      <td>True</td>\n",
       "      <td>True</td>\n",
       "      <td>True</td>\n",
       "      <td>True</td>\n",
       "    </tr>\n",
       "    <tr>\n",
       "      <th>497</th>\n",
       "      <td>True</td>\n",
       "      <td>True</td>\n",
       "      <td>True</td>\n",
       "      <td>True</td>\n",
       "      <td>True</td>\n",
       "      <td>True</td>\n",
       "      <td>True</td>\n",
       "      <td>True</td>\n",
       "      <td>True</td>\n",
       "    </tr>\n",
       "    <tr>\n",
       "      <th>498</th>\n",
       "      <td>True</td>\n",
       "      <td>True</td>\n",
       "      <td>True</td>\n",
       "      <td>True</td>\n",
       "      <td>True</td>\n",
       "      <td>True</td>\n",
       "      <td>False</td>\n",
       "      <td>True</td>\n",
       "      <td>True</td>\n",
       "    </tr>\n",
       "    <tr>\n",
       "      <th>499</th>\n",
       "      <td>True</td>\n",
       "      <td>True</td>\n",
       "      <td>True</td>\n",
       "      <td>True</td>\n",
       "      <td>True</td>\n",
       "      <td>True</td>\n",
       "      <td>False</td>\n",
       "      <td>True</td>\n",
       "      <td>True</td>\n",
       "    </tr>\n",
       "  </tbody>\n",
       "</table>\n",
       "<p>500 rows × 9 columns</p>\n",
       "</div>"
      ],
      "text/plain": [
       "     CUSTOMERID  GENDER   AGE  INCOME  EXPERIENCE SCORE  LOYALTY GROUP  \\\n",
       "0          True    True  True    True              True           True   \n",
       "1          True    True  True    True              True           True   \n",
       "2          True    True  True    True              True           True   \n",
       "3          True    True  True    True              True           True   \n",
       "4          True    True  True    True              True           True   \n",
       "5          True    True  True    True              True           True   \n",
       "6          True    True  True    True              True           True   \n",
       "7          True    True  True    True              True           True   \n",
       "8          True    True  True    True              True           True   \n",
       "9          True    True  True    True              True           True   \n",
       "10         True    True  True    True              True           True   \n",
       "11         True    True  True    True              True           True   \n",
       "12         True    True  True    True              True           True   \n",
       "13         True    True  True    True              True           True   \n",
       "14         True    True  True    True              True           True   \n",
       "15         True    True  True    True              True           True   \n",
       "16         True    True  True    True              True           True   \n",
       "17         True    True  True    True              True           True   \n",
       "18         True    True  True    True              True           True   \n",
       "19         True    True  True    True              True           True   \n",
       "20         True    True  True    True              True           True   \n",
       "21         True    True  True    True              True           True   \n",
       "22         True    True  True    True              True           True   \n",
       "23         True    True  True    True              True           True   \n",
       "24         True    True  True    True              True           True   \n",
       "25         True    True  True    True              True           True   \n",
       "26         True    True  True    True              True           True   \n",
       "27         True    True  True    True              True           True   \n",
       "28         True    True  True    True              True           True   \n",
       "29         True    True  True    True              True           True   \n",
       "..          ...     ...   ...     ...               ...            ...   \n",
       "470        True    True  True    True              True           True   \n",
       "471        True    True  True    True              True           True   \n",
       "472        True    True  True    True              True           True   \n",
       "473        True    True  True    True              True           True   \n",
       "474        True    True  True    True              True           True   \n",
       "475        True    True  True    True              True           True   \n",
       "476        True    True  True    True              True           True   \n",
       "477        True    True  True    True              True           True   \n",
       "478        True    True  True    True              True           True   \n",
       "479        True    True  True    True              True           True   \n",
       "480        True    True  True    True              True           True   \n",
       "481        True    True  True    True              True           True   \n",
       "482        True    True  True    True              True           True   \n",
       "483        True    True  True    True              True           True   \n",
       "484        True    True  True    True              True           True   \n",
       "485        True    True  True    True              True           True   \n",
       "486        True    True  True    True              True           True   \n",
       "487        True    True  True    True              True           True   \n",
       "488        True    True  True    True              True           True   \n",
       "489        True    True  True    True              True           True   \n",
       "490        True    True  True    True              True           True   \n",
       "491        True    True  True    True              True           True   \n",
       "492        True    True  True    True              True           True   \n",
       "493        True    True  True    True              True           True   \n",
       "494        True    True  True    True              True           True   \n",
       "495        True    True  True    True              True           True   \n",
       "496        True    True  True    True              True           True   \n",
       "497        True    True  True    True              True           True   \n",
       "498        True    True  True    True              True           True   \n",
       "499        True    True  True    True              True           True   \n",
       "\n",
       "     ENROLLMENT DATE  HOUSEHOLD SIZE  MARITAL STATUS  \n",
       "0               True            True            True  \n",
       "1              False            True            True  \n",
       "2               True            True            True  \n",
       "3               True            True            True  \n",
       "4              False            True            True  \n",
       "5              False            True            True  \n",
       "6               True            True            True  \n",
       "7               True            True            True  \n",
       "8               True            True            True  \n",
       "9              False            True            True  \n",
       "10             False            True            True  \n",
       "11             False            True            True  \n",
       "12             False            True            True  \n",
       "13             False            True            True  \n",
       "14              True            True            True  \n",
       "15             False            True            True  \n",
       "16              True            True            True  \n",
       "17              True            True            True  \n",
       "18              True            True            True  \n",
       "19             False            True            True  \n",
       "20              True            True            True  \n",
       "21              True            True            True  \n",
       "22              True            True            True  \n",
       "23             False            True            True  \n",
       "24              True            True            True  \n",
       "25              True            True            True  \n",
       "26              True            True            True  \n",
       "27             False            True            True  \n",
       "28              True            True            True  \n",
       "29              True            True            True  \n",
       "..               ...             ...             ...  \n",
       "470             True            True            True  \n",
       "471            False            True            True  \n",
       "472             True            True            True  \n",
       "473             True            True            True  \n",
       "474             True            True            True  \n",
       "475             True            True            True  \n",
       "476             True            True            True  \n",
       "477            False            True            True  \n",
       "478             True            True            True  \n",
       "479             True            True            True  \n",
       "480            False            True            True  \n",
       "481             True            True            True  \n",
       "482             True            True            True  \n",
       "483             True            True            True  \n",
       "484            False            True            True  \n",
       "485            False            True            True  \n",
       "486             True            True            True  \n",
       "487             True            True            True  \n",
       "488            False            True            True  \n",
       "489             True            True            True  \n",
       "490             True            True            True  \n",
       "491             True            True            True  \n",
       "492             True            True            True  \n",
       "493             True            True            True  \n",
       "494            False            True            True  \n",
       "495             True            True            True  \n",
       "496             True            True            True  \n",
       "497             True            True            True  \n",
       "498            False            True            True  \n",
       "499            False            True            True  \n",
       "\n",
       "[500 rows x 9 columns]"
      ]
     },
     "execution_count": 21,
     "metadata": {},
     "output_type": "execute_result"
    }
   ],
   "source": [
    "#ANOTHER WAY TO CHECK FOR ANY EMPTY CELL IN YOUR DATA SET\n",
    "missing_data = customerD.notnull()\n",
    "missing_data"
   ]
  },
  {
   "cell_type": "code",
   "execution_count": 22,
   "metadata": {},
   "outputs": [
    {
     "name": "stdout",
     "output_type": "stream",
     "text": [
      "CUSTOMERID\n",
      "True    500\n",
      "Name: CUSTOMERID, dtype: int64\n",
      "\n",
      "GENDER\n",
      "True    500\n",
      "Name: GENDER, dtype: int64\n",
      "\n",
      "AGE\n",
      "True    500\n",
      "Name: AGE, dtype: int64\n",
      "\n",
      "INCOME\n",
      "True    500\n",
      "Name: INCOME, dtype: int64\n",
      "\n",
      "EXPERIENCE SCORE\n",
      "True    500\n",
      "Name: EXPERIENCE SCORE, dtype: int64\n",
      "\n",
      "LOYALTY GROUP\n",
      "True    500\n",
      "Name: LOYALTY GROUP, dtype: int64\n",
      "\n",
      "ENROLLMENT DATE\n",
      "True     264\n",
      "False    236\n",
      "Name: ENROLLMENT DATE, dtype: int64\n",
      "\n",
      "HOUSEHOLD SIZE\n",
      "True    500\n",
      "Name: HOUSEHOLD SIZE, dtype: int64\n",
      "\n",
      "MARITAL STATUS\n",
      "True    500\n",
      "Name: MARITAL STATUS, dtype: int64\n",
      "\n"
     ]
    }
   ],
   "source": [
    "for column in missing_data.columns.values.tolist():\n",
    "    print(column)\n",
    "    print(missing_data[column].value_counts())\n",
    "    print(\"\")\n",
    "    "
   ]
  },
  {
   "cell_type": "code",
   "execution_count": 23,
   "metadata": {},
   "outputs": [
    {
     "data": {
      "text/plain": [
       "['ENROLLMENT DATE']"
      ]
     },
     "execution_count": 23,
     "metadata": {},
     "output_type": "execute_result"
    }
   ],
   "source": [
    "# Step 7: check for the column with the empty cell in the data set affected.\n",
    "customerD.columns[customerD.isna().any()].tolist()"
   ]
  },
  {
   "cell_type": "code",
   "execution_count": 24,
   "metadata": {},
   "outputs": [
    {
     "data": {
      "text/plain": [
       "Text(0.5, 1.0, 'MARITAL STATUS BAR CHART')"
      ]
     },
     "execution_count": 24,
     "metadata": {},
     "output_type": "execute_result"
    },
    {
     "data": {
      "image/png": "[encoded data removed]",
      "text/plain": [
       "<Figure size 432x288 with 1 Axes>"
      ]
     },
     "metadata": {
      "needs_background": "light"
     },
     "output_type": "display_data"
    }
   ],
   "source": [
    "# step 8: using the bar chart, check for the marital status with the highest frequency\n",
    "%matplotlib inline\n",
    "import matplotlib as pll\n",
    "\n",
    "labels = (\"Married\",\"Single\",\"Divorced\", \"Widow/Widower\")\n",
    "pll.pyplot.bar(labels, customerD['MARITAL STATUS'].value_counts())\n",
    "pll.pyplot.xlabel('MARITAL STATUS')\n",
    "pll.pyplot.ylabel(\"frequency\")\n",
    "pll.pyplot.title('MARITAL STATUS BAR CHART')"
   ]
  },
  {
   "cell_type": "code",
   "execution_count": 25,
   "metadata": {},
   "outputs": [
    {
     "data": {
      "text/plain": [
       "Text(0.5, 1.0, 'AGE HISTOGRAM')"
      ]
     },
     "execution_count": 25,
     "metadata": {},
     "output_type": "execute_result"
    },
    {
     "data": {
      "image/png": "[encoded data removed]",
      "text/plain": [
       "<Figure size 720x360 with 1 Axes>"
      ]
     },
     "metadata": {
      "needs_background": "light"
     },
     "output_type": "display_data"
    }
   ],
   "source": [
    "# step 9: using histogram, check if age affects customer loyalty\n",
    "#IMPORT MATPLOTLIB as pll so it wouldn't confuse the scatter plot plt\n",
    "%matplotlib inline\n",
    "import matplotlib as pll\n",
    "\n",
    "customerD['AGE'].hist(bins=6,figsize=(10,5))\n",
    "\n",
    "pll.pyplot.xlabel(\"AGE\")\n",
    "pll.pyplot.ylabel(\"count\")\n",
    "pll.pyplot.title(\"AGE HISTOGRAM\")"
   ]
  },
  {
   "cell_type": "code",
   "execution_count": 26,
   "metadata": {},
   "outputs": [
    {
     "data": {
      "text/plain": [
       "<matplotlib.axes._subplots.AxesSubplot at 0x25d55809588>"
      ]
     },
     "execution_count": 26,
     "metadata": {},
     "output_type": "execute_result"
    },
    {
     "data": {
      "image/png": "[encoded data removed]",
      "text/plain": [
       "<Figure size 432x288 with 1 Axes>"
      ]
     },
     "metadata": {
      "needs_background": "light"
     },
     "output_type": "display_data"
    }
   ],
   "source": [
    "#step 10: use boxplot to get a better view of the age disparity\n",
    "#WE CAN SEE THERE IS AN OULIER FROM 80 TO 90\n",
    "sns.boxplot(y = \"AGE\",data= customerD)\n"
   ]
  },
  {
   "cell_type": "code",
   "execution_count": 27,
   "metadata": {},
   "outputs": [
    {
     "data": {
      "text/plain": [
       "count    500.000000\n",
       "mean      42.316000\n",
       "std       17.567509\n",
       "min       18.000000\n",
       "25%       30.000000\n",
       "50%       39.000000\n",
       "75%       50.250000\n",
       "max       90.000000\n",
       "Name: AGE, dtype: float64"
      ]
     },
     "execution_count": 27,
     "metadata": {},
     "output_type": "execute_result"
    }
   ],
   "source": [
    "#step 10: get the age statistics\n",
    "customerD['AGE'].describe()"
   ]
  },
  {
   "cell_type": "code",
   "execution_count": 28,
   "metadata": {},
   "outputs": [],
   "source": [
    "#step 11: merge the transaction data and the product data \n",
    "trans_product = transD.merge(productD, how='inner', left_on=\"PRODUCT NUM\", right_on=\"PRODUCT CODE\")"
   ]
  },
  {
   "cell_type": "code",
   "execution_count": 29,
   "metadata": {},
   "outputs": [
    {
     "data": {
      "text/plain": [
       "CUSTOMER NUM            int64\n",
       "PRODUCT NUM             int64\n",
       "QUANTITY PURCHASED      int64\n",
       "DISCOUNT TAKEN        float64\n",
       "TRANSACTION DATE       object\n",
       "STOCKOUT                int64\n",
       "PRODUCT CODE            int64\n",
       "PRODUCT CATEGORY       object\n",
       "UNIT LIST PRICE        object\n",
       "dtype: object"
      ]
     },
     "execution_count": 29,
     "metadata": {},
     "output_type": "execute_result"
    }
   ],
   "source": [
    "#step 11: check the data type and convert appropriately\n",
    "trans_product.dtypes"
   ]
  },
  {
   "cell_type": "code",
   "execution_count": 30,
   "metadata": {},
   "outputs": [],
   "source": [
    "trans_product['UNIT LIST PRICE'] = trans_product['UNIT LIST PRICE'].map(lambda x : float(x.replace('$','')))"
   ]
  },
  {
   "cell_type": "code",
   "execution_count": 31,
   "metadata": {},
   "outputs": [
    {
     "data": {
      "text/plain": [
       "CUSTOMER NUM            int64\n",
       "PRODUCT NUM             int64\n",
       "QUANTITY PURCHASED      int64\n",
       "DISCOUNT TAKEN        float64\n",
       "TRANSACTION DATE       object\n",
       "STOCKOUT                int64\n",
       "PRODUCT CODE            int64\n",
       "PRODUCT CATEGORY       object\n",
       "UNIT LIST PRICE       float64\n",
       "dtype: object"
      ]
     },
     "execution_count": 31,
     "metadata": {},
     "output_type": "execute_result"
    }
   ],
   "source": [
    "trans_product.dtypes"
   ]
  },
  {
   "cell_type": "code",
   "execution_count": 32,
   "metadata": {},
   "outputs": [],
   "source": [
    "#step 12: get the total price for each transaction\n",
    "trans_product['TOTAL PRICE'] = trans_product['QUANTITY PURCHASED'] * trans_product['UNIT LIST PRICE'] * (1- trans_product['DISCOUNT TAKEN'])"
   ]
  },
  {
   "cell_type": "code",
   "execution_count": 33,
   "metadata": {},
   "outputs": [
    {
     "data": {
      "text/html": [
       "<div>\n",
       "<style scoped>\n",
       "    .dataframe tbody tr th:only-of-type {\n",
       "        vertical-align: middle;\n",
       "    }\n",
       "\n",
       "    .dataframe tbody tr th {\n",
       "        vertical-align: top;\n",
       "    }\n",
       "\n",
       "    .dataframe thead th {\n",
       "        text-align: right;\n",
       "    }\n",
       "</style>\n",
       "<table border=\"1\" class=\"dataframe\">\n",
       "  <thead>\n",
       "    <tr style=\"text-align: right;\">\n",
       "      <th></th>\n",
       "      <th>CUSTOMER NUM</th>\n",
       "      <th>PRODUCT NUM</th>\n",
       "      <th>QUANTITY PURCHASED</th>\n",
       "      <th>DISCOUNT TAKEN</th>\n",
       "      <th>TRANSACTION DATE</th>\n",
       "      <th>STOCKOUT</th>\n",
       "      <th>PRODUCT CODE</th>\n",
       "      <th>PRODUCT CATEGORY</th>\n",
       "      <th>UNIT LIST PRICE</th>\n",
       "      <th>TOTAL PRICE</th>\n",
       "    </tr>\n",
       "  </thead>\n",
       "  <tbody>\n",
       "    <tr>\n",
       "      <th>0</th>\n",
       "      <td>10114</td>\n",
       "      <td>30011</td>\n",
       "      <td>4</td>\n",
       "      <td>0.0</td>\n",
       "      <td>1/2/2015</td>\n",
       "      <td>0</td>\n",
       "      <td>30011</td>\n",
       "      <td>APPAREL</td>\n",
       "      <td>25.46</td>\n",
       "      <td>101.840</td>\n",
       "    </tr>\n",
       "    <tr>\n",
       "      <th>1</th>\n",
       "      <td>10086</td>\n",
       "      <td>30011</td>\n",
       "      <td>6</td>\n",
       "      <td>0.0</td>\n",
       "      <td>1/2/2015</td>\n",
       "      <td>0</td>\n",
       "      <td>30011</td>\n",
       "      <td>APPAREL</td>\n",
       "      <td>25.46</td>\n",
       "      <td>152.760</td>\n",
       "    </tr>\n",
       "    <tr>\n",
       "      <th>2</th>\n",
       "      <td>10174</td>\n",
       "      <td>30011</td>\n",
       "      <td>10</td>\n",
       "      <td>0.0</td>\n",
       "      <td>1/2/2015</td>\n",
       "      <td>0</td>\n",
       "      <td>30011</td>\n",
       "      <td>APPAREL</td>\n",
       "      <td>25.46</td>\n",
       "      <td>254.600</td>\n",
       "    </tr>\n",
       "    <tr>\n",
       "      <th>3</th>\n",
       "      <td>10401</td>\n",
       "      <td>30011</td>\n",
       "      <td>12</td>\n",
       "      <td>0.0</td>\n",
       "      <td>1/2/2015</td>\n",
       "      <td>0</td>\n",
       "      <td>30011</td>\n",
       "      <td>APPAREL</td>\n",
       "      <td>25.46</td>\n",
       "      <td>305.520</td>\n",
       "    </tr>\n",
       "    <tr>\n",
       "      <th>4</th>\n",
       "      <td>10216</td>\n",
       "      <td>30011</td>\n",
       "      <td>12</td>\n",
       "      <td>0.1</td>\n",
       "      <td>1/2/2015</td>\n",
       "      <td>0</td>\n",
       "      <td>30011</td>\n",
       "      <td>APPAREL</td>\n",
       "      <td>25.46</td>\n",
       "      <td>274.968</td>\n",
       "    </tr>\n",
       "  </tbody>\n",
       "</table>\n",
       "</div>"
      ],
      "text/plain": [
       "   CUSTOMER NUM  PRODUCT NUM  QUANTITY PURCHASED  DISCOUNT TAKEN  \\\n",
       "0         10114        30011                   4             0.0   \n",
       "1         10086        30011                   6             0.0   \n",
       "2         10174        30011                  10             0.0   \n",
       "3         10401        30011                  12             0.0   \n",
       "4         10216        30011                  12             0.1   \n",
       "\n",
       "  TRANSACTION DATE  STOCKOUT  PRODUCT CODE PRODUCT CATEGORY  UNIT LIST PRICE  \\\n",
       "0         1/2/2015         0         30011          APPAREL            25.46   \n",
       "1         1/2/2015         0         30011          APPAREL            25.46   \n",
       "2         1/2/2015         0         30011          APPAREL            25.46   \n",
       "3         1/2/2015         0         30011          APPAREL            25.46   \n",
       "4         1/2/2015         0         30011          APPAREL            25.46   \n",
       "\n",
       "   TOTAL PRICE  \n",
       "0      101.840  \n",
       "1      152.760  \n",
       "2      254.600  \n",
       "3      305.520  \n",
       "4      274.968  "
      ]
     },
     "execution_count": 33,
     "metadata": {},
     "output_type": "execute_result"
    }
   ],
   "source": [
    "trans_product.head()"
   ]
  },
  {
   "cell_type": "code",
   "execution_count": 34,
   "metadata": {},
   "outputs": [],
   "source": [
    "#step 13: get the revenue generated on each product category, sort in descending order and rename appropriately\n",
    "revenue_per_product = trans_product.groupby('PRODUCT CATEGORY').agg({'TOTAL PRICE' : 'sum'}).sort_values('TOTAL PRICE', ascending= False)"
   ]
  },
  {
   "cell_type": "code",
   "execution_count": 35,
   "metadata": {},
   "outputs": [
    {
     "data": {
      "text/html": [
       "<div>\n",
       "<style scoped>\n",
       "    .dataframe tbody tr th:only-of-type {\n",
       "        vertical-align: middle;\n",
       "    }\n",
       "\n",
       "    .dataframe tbody tr th {\n",
       "        vertical-align: top;\n",
       "    }\n",
       "\n",
       "    .dataframe thead th {\n",
       "        text-align: right;\n",
       "    }\n",
       "</style>\n",
       "<table border=\"1\" class=\"dataframe\">\n",
       "  <thead>\n",
       "    <tr style=\"text-align: right;\">\n",
       "      <th></th>\n",
       "      <th>TOTAL PRICE</th>\n",
       "    </tr>\n",
       "    <tr>\n",
       "      <th>PRODUCT CATEGORY</th>\n",
       "      <th></th>\n",
       "    </tr>\n",
       "  </thead>\n",
       "  <tbody>\n",
       "    <tr>\n",
       "      <th>ELECTRONICS</th>\n",
       "      <td>1607192.422</td>\n",
       "    </tr>\n",
       "    <tr>\n",
       "      <th>APPAREL</th>\n",
       "      <td>936757.914</td>\n",
       "    </tr>\n",
       "    <tr>\n",
       "      <th>FOOD</th>\n",
       "      <td>96044.610</td>\n",
       "    </tr>\n",
       "    <tr>\n",
       "      <th>HEALTH &amp; BEAUTY</th>\n",
       "      <td>54776.312</td>\n",
       "    </tr>\n",
       "  </tbody>\n",
       "</table>\n",
       "</div>"
      ],
      "text/plain": [
       "                  TOTAL PRICE\n",
       "PRODUCT CATEGORY             \n",
       "ELECTRONICS       1607192.422\n",
       "APPAREL            936757.914\n",
       "FOOD                96044.610\n",
       "HEALTH & BEAUTY     54776.312"
      ]
     },
     "execution_count": 35,
     "metadata": {},
     "output_type": "execute_result"
    }
   ],
   "source": [
    "revenue_per_product"
   ]
  },
  {
   "cell_type": "code",
   "execution_count": 36,
   "metadata": {},
   "outputs": [],
   "source": [
    "#renaming Total price name appropriately\n",
    "revenue_by_product = revenue_per_product.rename(columns = {'TOTAL PRICE':'REVENUE PER PRODUCT'})"
   ]
  },
  {
   "cell_type": "code",
   "execution_count": 37,
   "metadata": {},
   "outputs": [
    {
     "data": {
      "text/html": [
       "<div>\n",
       "<style scoped>\n",
       "    .dataframe tbody tr th:only-of-type {\n",
       "        vertical-align: middle;\n",
       "    }\n",
       "\n",
       "    .dataframe tbody tr th {\n",
       "        vertical-align: top;\n",
       "    }\n",
       "\n",
       "    .dataframe thead th {\n",
       "        text-align: right;\n",
       "    }\n",
       "</style>\n",
       "<table border=\"1\" class=\"dataframe\">\n",
       "  <thead>\n",
       "    <tr style=\"text-align: right;\">\n",
       "      <th></th>\n",
       "      <th>REVENUE PER PRODUCT</th>\n",
       "    </tr>\n",
       "    <tr>\n",
       "      <th>PRODUCT CATEGORY</th>\n",
       "      <th></th>\n",
       "    </tr>\n",
       "  </thead>\n",
       "  <tbody>\n",
       "    <tr>\n",
       "      <th>ELECTRONICS</th>\n",
       "      <td>1607192.422</td>\n",
       "    </tr>\n",
       "    <tr>\n",
       "      <th>APPAREL</th>\n",
       "      <td>936757.914</td>\n",
       "    </tr>\n",
       "    <tr>\n",
       "      <th>FOOD</th>\n",
       "      <td>96044.610</td>\n",
       "    </tr>\n",
       "    <tr>\n",
       "      <th>HEALTH &amp; BEAUTY</th>\n",
       "      <td>54776.312</td>\n",
       "    </tr>\n",
       "  </tbody>\n",
       "</table>\n",
       "</div>"
      ],
      "text/plain": [
       "                  REVENUE PER PRODUCT\n",
       "PRODUCT CATEGORY                     \n",
       "ELECTRONICS               1607192.422\n",
       "APPAREL                    936757.914\n",
       "FOOD                        96044.610\n",
       "HEALTH & BEAUTY             54776.312"
      ]
     },
     "execution_count": 37,
     "metadata": {},
     "output_type": "execute_result"
    }
   ],
   "source": [
    "revenue_by_product"
   ]
  },
  {
   "cell_type": "code",
   "execution_count": 38,
   "metadata": {},
   "outputs": [
    {
     "data": {
      "text/plain": [
       "<matplotlib.axes._subplots.AxesSubplot at 0x25d55a16710>"
      ]
     },
     "execution_count": 38,
     "metadata": {},
     "output_type": "execute_result"
    },
    {
     "data": {
      "image/png": "[encoded data removed]",
      "text/plain": [
       "<Figure size 432x288 with 1 Axes>"
      ]
     },
     "metadata": {},
     "output_type": "display_data"
    }
   ],
   "source": [
    "#step 14: visualize the revenue using pie-chart to display the percentage of revenue for each product\n",
    "#category\n",
    "revenue_by_product['REVENUE PER PRODUCT'].plot(kind='pie', autopct='%1.1f%%', legend=True)"
   ]
  },
  {
   "cell_type": "code",
   "execution_count": 39,
   "metadata": {},
   "outputs": [
    {
     "data": {
      "text/plain": [
       "'\\n    Let us calculate for each customer the following\\nmeasures, and see whether any of these measures affects loyalty enrolment:\\nTotal spends per category\\nTotal spends\\nMost recent transaction dates\\nAverage Discount taken\\n'"
      ]
     },
     "execution_count": 39,
     "metadata": {},
     "output_type": "execute_result"
    }
   ],
   "source": [
    "'''\n",
    "    Let us calculate for each customer the following\n",
    "measures, and see whether any of these measures affects loyalty enrolment:\n",
    "Total spends per category\n",
    "Total spends\n",
    "Most recent transaction dates\n",
    "Average Discount taken\n",
    "'''\n",
    "\n",
    "#step 16: group the cudtomer data by the customer nuber and product category,and sum the total \n"
   ]
  },
  {
   "cell_type": "code",
   "execution_count": 40,
   "metadata": {},
   "outputs": [],
   "source": [
    "#TOTAL SPENDS PER CATEGORY\n",
    "customer_product_categ = trans_product.groupby(['CUSTOMER NUM', 'PRODUCT CATEGORY']).agg({'TOTAL PRICE':'sum'})"
   ]
  },
  {
   "cell_type": "code",
   "execution_count": 41,
   "metadata": {},
   "outputs": [
    {
     "data": {
      "text/html": [
       "<div>\n",
       "<style scoped>\n",
       "    .dataframe tbody tr th:only-of-type {\n",
       "        vertical-align: middle;\n",
       "    }\n",
       "\n",
       "    .dataframe tbody tr th {\n",
       "        vertical-align: top;\n",
       "    }\n",
       "\n",
       "    .dataframe thead th {\n",
       "        text-align: right;\n",
       "    }\n",
       "</style>\n",
       "<table border=\"1\" class=\"dataframe\">\n",
       "  <thead>\n",
       "    <tr style=\"text-align: right;\">\n",
       "      <th></th>\n",
       "      <th></th>\n",
       "      <th>TOTAL PRICE</th>\n",
       "    </tr>\n",
       "    <tr>\n",
       "      <th>CUSTOMER NUM</th>\n",
       "      <th>PRODUCT CATEGORY</th>\n",
       "      <th></th>\n",
       "    </tr>\n",
       "  </thead>\n",
       "  <tbody>\n",
       "    <tr>\n",
       "      <th rowspan=\"4\" valign=\"top\">10001</th>\n",
       "      <th>APPAREL</th>\n",
       "      <td>4022.430</td>\n",
       "    </tr>\n",
       "    <tr>\n",
       "      <th>ELECTRONICS</th>\n",
       "      <td>1601.315</td>\n",
       "    </tr>\n",
       "    <tr>\n",
       "      <th>FOOD</th>\n",
       "      <td>68.688</td>\n",
       "    </tr>\n",
       "    <tr>\n",
       "      <th>HEALTH &amp; BEAUTY</th>\n",
       "      <td>1134.337</td>\n",
       "    </tr>\n",
       "    <tr>\n",
       "      <th>10002</th>\n",
       "      <th>APPAREL</th>\n",
       "      <td>2312.509</td>\n",
       "    </tr>\n",
       "  </tbody>\n",
       "</table>\n",
       "</div>"
      ],
      "text/plain": [
       "                               TOTAL PRICE\n",
       "CUSTOMER NUM PRODUCT CATEGORY             \n",
       "10001        APPAREL              4022.430\n",
       "             ELECTRONICS          1601.315\n",
       "             FOOD                   68.688\n",
       "             HEALTH & BEAUTY      1134.337\n",
       "10002        APPAREL              2312.509"
      ]
     },
     "execution_count": 41,
     "metadata": {},
     "output_type": "execute_result"
    }
   ],
   "source": [
    "customer_product_categ.head()"
   ]
  },
  {
   "cell_type": "code",
   "execution_count": 42,
   "metadata": {},
   "outputs": [
    {
     "data": {
      "text/plain": [
       "Index(['TOTAL PRICE'], dtype='object')"
      ]
     },
     "execution_count": 42,
     "metadata": {},
     "output_type": "execute_result"
    }
   ],
   "source": [
    "customer_product_categ.columns"
   ]
  },
  {
   "cell_type": "code",
   "execution_count": 43,
   "metadata": {},
   "outputs": [],
   "source": [
    "# Make it permanent by assigning a name to the new created data set\n",
    "customer_product_categ = customer_product_categ.reset_index()"
   ]
  },
  {
   "cell_type": "code",
   "execution_count": 44,
   "metadata": {},
   "outputs": [
    {
     "data": {
      "text/plain": [
       "'Note that only Total_Price appears as the single column in the data frame, and\\nthat the other two columns, “Customer Num” and” Product category”, were not\\nlisted. This occurs because when you group by some columns, they change from\\na column to a multi- or a hierarchical index. To revert them back, use the\\nreset_index() method.'"
      ]
     },
     "execution_count": 44,
     "metadata": {},
     "output_type": "execute_result"
    }
   ],
   "source": [
    "'''Note that only Total_Price appears as the single column in the data frame, and\n",
    "that the other two columns, “Customer Num” and” Product category”, were not\n",
    "listed. This occurs because when you group by some columns, they change from\n",
    "a column to a multi- or a hierarchical index. To revert them back, use the\n",
    "reset_index() method.'''"
   ]
  },
  {
   "cell_type": "code",
   "execution_count": 45,
   "metadata": {},
   "outputs": [
    {
     "data": {
      "text/html": [
       "<div>\n",
       "<style scoped>\n",
       "    .dataframe tbody tr th:only-of-type {\n",
       "        vertical-align: middle;\n",
       "    }\n",
       "\n",
       "    .dataframe tbody tr th {\n",
       "        vertical-align: top;\n",
       "    }\n",
       "\n",
       "    .dataframe thead th {\n",
       "        text-align: right;\n",
       "    }\n",
       "</style>\n",
       "<table border=\"1\" class=\"dataframe\">\n",
       "  <thead>\n",
       "    <tr style=\"text-align: right;\">\n",
       "      <th></th>\n",
       "      <th>index</th>\n",
       "      <th>CUSTOMER NUM</th>\n",
       "      <th>PRODUCT CATEGORY</th>\n",
       "      <th>TOTAL PRICE</th>\n",
       "    </tr>\n",
       "  </thead>\n",
       "  <tbody>\n",
       "    <tr>\n",
       "      <th>0</th>\n",
       "      <td>0</td>\n",
       "      <td>10001</td>\n",
       "      <td>APPAREL</td>\n",
       "      <td>4022.430</td>\n",
       "    </tr>\n",
       "    <tr>\n",
       "      <th>1</th>\n",
       "      <td>1</td>\n",
       "      <td>10001</td>\n",
       "      <td>ELECTRONICS</td>\n",
       "      <td>1601.315</td>\n",
       "    </tr>\n",
       "    <tr>\n",
       "      <th>2</th>\n",
       "      <td>2</td>\n",
       "      <td>10001</td>\n",
       "      <td>FOOD</td>\n",
       "      <td>68.688</td>\n",
       "    </tr>\n",
       "    <tr>\n",
       "      <th>3</th>\n",
       "      <td>3</td>\n",
       "      <td>10001</td>\n",
       "      <td>HEALTH &amp; BEAUTY</td>\n",
       "      <td>1134.337</td>\n",
       "    </tr>\n",
       "    <tr>\n",
       "      <th>4</th>\n",
       "      <td>4</td>\n",
       "      <td>10002</td>\n",
       "      <td>APPAREL</td>\n",
       "      <td>2312.509</td>\n",
       "    </tr>\n",
       "  </tbody>\n",
       "</table>\n",
       "</div>"
      ],
      "text/plain": [
       "   index  CUSTOMER NUM PRODUCT CATEGORY  TOTAL PRICE\n",
       "0      0         10001          APPAREL     4022.430\n",
       "1      1         10001      ELECTRONICS     1601.315\n",
       "2      2         10001             FOOD       68.688\n",
       "3      3         10001  HEALTH & BEAUTY     1134.337\n",
       "4      4         10002          APPAREL     2312.509"
      ]
     },
     "execution_count": 45,
     "metadata": {},
     "output_type": "execute_result"
    }
   ],
   "source": [
    "customer_product_categ.reset_index().head()"
   ]
  },
  {
   "cell_type": "code",
   "execution_count": 46,
   "metadata": {},
   "outputs": [
    {
     "data": {
      "text/plain": [
       "'Let us reorganize the data and create a summary report that shows the spending\\non each product category per customer. Use the “Pivot” function to create a\\npivot table.\\nThe Pivot function needs three main arguments:\\nThe index, which sets the column to use as an index.\\nThe columns, which are the pivot columns to use.\\nThe values to populate new frame’s values.\\n'"
      ]
     },
     "execution_count": 46,
     "metadata": {},
     "output_type": "execute_result"
    }
   ],
   "source": [
    "'''Let us reorganize the data and create a summary report that shows the spending\n",
    "on each product category per customer. Use the “Pivot” function to create a\n",
    "pivot table.\n",
    "The Pivot function needs three main arguments:\n",
    "The index, which sets the column to use as an index.\n",
    "The columns, which are the pivot columns to use.\n",
    "The values to populate new frame’s values.\n",
    "'''"
   ]
  },
  {
   "cell_type": "code",
   "execution_count": 47,
   "metadata": {},
   "outputs": [
    {
     "data": {
      "text/html": [
       "<div>\n",
       "<style scoped>\n",
       "    .dataframe tbody tr th:only-of-type {\n",
       "        vertical-align: middle;\n",
       "    }\n",
       "\n",
       "    .dataframe tbody tr th {\n",
       "        vertical-align: top;\n",
       "    }\n",
       "\n",
       "    .dataframe thead th {\n",
       "        text-align: right;\n",
       "    }\n",
       "</style>\n",
       "<table border=\"1\" class=\"dataframe\">\n",
       "  <thead>\n",
       "    <tr style=\"text-align: right;\">\n",
       "      <th>PRODUCT CATEGORY</th>\n",
       "      <th>APPAREL</th>\n",
       "      <th>ELECTRONICS</th>\n",
       "      <th>FOOD</th>\n",
       "      <th>HEALTH &amp; BEAUTY</th>\n",
       "    </tr>\n",
       "    <tr>\n",
       "      <th>CUSTOMER NUM</th>\n",
       "      <th></th>\n",
       "      <th></th>\n",
       "      <th></th>\n",
       "      <th></th>\n",
       "    </tr>\n",
       "  </thead>\n",
       "  <tbody>\n",
       "    <tr>\n",
       "      <th>10001</th>\n",
       "      <td>4022.430</td>\n",
       "      <td>1601.315</td>\n",
       "      <td>68.688</td>\n",
       "      <td>1134.337</td>\n",
       "    </tr>\n",
       "    <tr>\n",
       "      <th>10002</th>\n",
       "      <td>2312.509</td>\n",
       "      <td>2473.163</td>\n",
       "      <td>276.779</td>\n",
       "      <td>NaN</td>\n",
       "    </tr>\n",
       "    <tr>\n",
       "      <th>10003</th>\n",
       "      <td>2887.382</td>\n",
       "      <td>5414.418</td>\n",
       "      <td>260.640</td>\n",
       "      <td>NaN</td>\n",
       "    </tr>\n",
       "    <tr>\n",
       "      <th>10004</th>\n",
       "      <td>3637.213</td>\n",
       "      <td>1840.211</td>\n",
       "      <td>45.270</td>\n",
       "      <td>NaN</td>\n",
       "    </tr>\n",
       "    <tr>\n",
       "      <th>10005</th>\n",
       "      <td>213.512</td>\n",
       "      <td>NaN</td>\n",
       "      <td>NaN</td>\n",
       "      <td>NaN</td>\n",
       "    </tr>\n",
       "  </tbody>\n",
       "</table>\n",
       "</div>"
      ],
      "text/plain": [
       "PRODUCT CATEGORY   APPAREL  ELECTRONICS     FOOD  HEALTH & BEAUTY\n",
       "CUSTOMER NUM                                                     \n",
       "10001             4022.430     1601.315   68.688         1134.337\n",
       "10002             2312.509     2473.163  276.779              NaN\n",
       "10003             2887.382     5414.418  260.640              NaN\n",
       "10004             3637.213     1840.211   45.270              NaN\n",
       "10005              213.512          NaN      NaN              NaN"
      ]
     },
     "execution_count": 47,
     "metadata": {},
     "output_type": "execute_result"
    }
   ],
   "source": [
    "#USING PIVOT TABLE\n",
    "customer_pivot = customer_product_categ.pivot(index='CUSTOMER NUM', columns='PRODUCT CATEGORY', values='TOTAL PRICE')\n",
    "customer_pivot.head()"
   ]
  },
  {
   "cell_type": "code",
   "execution_count": 48,
   "metadata": {},
   "outputs": [
    {
     "data": {
      "text/plain": [
       "'calculate the latest transaction date and the total spend for each customer\\n#1.Convert the transaction date to a datetime object so that you can use an\\naggregate function\\n#2. Calculate the measures by using the “groupby” and “agg” functions\\n#3.Join the newly created Pandas data frame (recent_trans_total_spend) with the\\ncustomer pivot table to create a view for each customer that contains the\\nfollowing information:\\nTotal spend\\nTotal spend per category\\nRecent transaction date\\n'"
      ]
     },
     "execution_count": 48,
     "metadata": {},
     "output_type": "execute_result"
    }
   ],
   "source": [
    "'''calculate the latest transaction date and the total spend for each customer\n",
    "#1.Convert the transaction date to a datetime object so that you can use an\n",
    "aggregate function\n",
    "#2. Calculate the measures by using the “groupby” and “agg” functions\n",
    "#3.Join the newly created Pandas data frame (recent_trans_total_spend) with the\n",
    "customer pivot table to create a view for each customer that contains the\n",
    "following information:\n",
    "Total spend\n",
    "Total spend per category\n",
    "Recent transaction date\n",
    "'''"
   ]
  },
  {
   "cell_type": "code",
   "execution_count": 49,
   "metadata": {},
   "outputs": [],
   "source": [
    "#TOTAL SPENDS\n",
    "trans_product['TRANSACTION DATE']=trans_product['TRANSACTION DATE'].map(lambda x :datetime.strptime(x, '%m/%d/%Y') )"
   ]
  },
  {
   "cell_type": "code",
   "execution_count": 50,
   "metadata": {},
   "outputs": [
    {
     "data": {
      "text/plain": [
       "0   2015-01-02\n",
       "1   2015-01-02\n",
       "2   2015-01-02\n",
       "3   2015-01-02\n",
       "4   2015-01-02\n",
       "Name: TRANSACTION DATE, dtype: datetime64[ns]"
      ]
     },
     "execution_count": 50,
     "metadata": {},
     "output_type": "execute_result"
    }
   ],
   "source": [
    "trans_product['TRANSACTION DATE'].head()"
   ]
  },
  {
   "cell_type": "code",
   "execution_count": 51,
   "metadata": {
    "scrolled": true
   },
   "outputs": [
    {
     "data": {
      "text/html": [
       "<div>\n",
       "<style scoped>\n",
       "    .dataframe tbody tr th:only-of-type {\n",
       "        vertical-align: middle;\n",
       "    }\n",
       "\n",
       "    .dataframe tbody tr th {\n",
       "        vertical-align: top;\n",
       "    }\n",
       "\n",
       "    .dataframe thead th {\n",
       "        text-align: right;\n",
       "    }\n",
       "</style>\n",
       "<table border=\"1\" class=\"dataframe\">\n",
       "  <thead>\n",
       "    <tr style=\"text-align: right;\">\n",
       "      <th></th>\n",
       "      <th>RECENT TRANSACTION DATE</th>\n",
       "      <th>TOTAL SPENT</th>\n",
       "    </tr>\n",
       "    <tr>\n",
       "      <th>CUSTOMER NUM</th>\n",
       "      <th></th>\n",
       "      <th></th>\n",
       "    </tr>\n",
       "  </thead>\n",
       "  <tbody>\n",
       "    <tr>\n",
       "      <th>10001</th>\n",
       "      <td>2015-12-24</td>\n",
       "      <td>6826.770</td>\n",
       "    </tr>\n",
       "    <tr>\n",
       "      <th>10002</th>\n",
       "      <td>2015-12-21</td>\n",
       "      <td>5062.451</td>\n",
       "    </tr>\n",
       "    <tr>\n",
       "      <th>10003</th>\n",
       "      <td>2015-12-31</td>\n",
       "      <td>8562.440</td>\n",
       "    </tr>\n",
       "    <tr>\n",
       "      <th>10004</th>\n",
       "      <td>2015-12-17</td>\n",
       "      <td>5522.694</td>\n",
       "    </tr>\n",
       "    <tr>\n",
       "      <th>10005</th>\n",
       "      <td>2015-12-22</td>\n",
       "      <td>213.512</td>\n",
       "    </tr>\n",
       "  </tbody>\n",
       "</table>\n",
       "</div>"
      ],
      "text/plain": [
       "             RECENT TRANSACTION DATE  TOTAL SPENT\n",
       "CUSTOMER NUM                                     \n",
       "10001                     2015-12-24     6826.770\n",
       "10002                     2015-12-21     5062.451\n",
       "10003                     2015-12-31     8562.440\n",
       "10004                     2015-12-17     5522.694\n",
       "10005                     2015-12-22      213.512"
      ]
     },
     "execution_count": 51,
     "metadata": {},
     "output_type": "execute_result"
    }
   ],
   "source": [
    "recent_tran_total_spend =trans_product.groupby('CUSTOMER NUM').\\\n",
    "agg({'TRANSACTION DATE' :'max', 'TOTAL PRICE' : 'sum'}). \\\n",
    "rename(columns={'TRANSACTION DATE':'RECENT TRANSACTION DATE','TOTAL PRICE':'TOTAL SPENT'})\n",
    "recent_tran_total_spend.head()"
   ]
  },
  {
   "cell_type": "code",
   "execution_count": 52,
   "metadata": {},
   "outputs": [],
   "source": [
    "#4. Create the join on the common index, which is Customer NUM\n",
    "customer_KPI =customer_pivot.merge(recent_tran_total_spend, how='inner',left_index=True, right_index=True)"
   ]
  },
  {
   "cell_type": "code",
   "execution_count": 53,
   "metadata": {},
   "outputs": [
    {
     "data": {
      "text/html": [
       "<div>\n",
       "<style scoped>\n",
       "    .dataframe tbody tr th:only-of-type {\n",
       "        vertical-align: middle;\n",
       "    }\n",
       "\n",
       "    .dataframe tbody tr th {\n",
       "        vertical-align: top;\n",
       "    }\n",
       "\n",
       "    .dataframe thead th {\n",
       "        text-align: right;\n",
       "    }\n",
       "</style>\n",
       "<table border=\"1\" class=\"dataframe\">\n",
       "  <thead>\n",
       "    <tr style=\"text-align: right;\">\n",
       "      <th></th>\n",
       "      <th>APPAREL</th>\n",
       "      <th>ELECTRONICS</th>\n",
       "      <th>FOOD</th>\n",
       "      <th>HEALTH &amp; BEAUTY</th>\n",
       "      <th>RECENT TRANSACTION DATE</th>\n",
       "      <th>TOTAL SPENT</th>\n",
       "    </tr>\n",
       "    <tr>\n",
       "      <th>CUSTOMER NUM</th>\n",
       "      <th></th>\n",
       "      <th></th>\n",
       "      <th></th>\n",
       "      <th></th>\n",
       "      <th></th>\n",
       "      <th></th>\n",
       "    </tr>\n",
       "  </thead>\n",
       "  <tbody>\n",
       "    <tr>\n",
       "      <th>10001</th>\n",
       "      <td>4022.430</td>\n",
       "      <td>1601.315</td>\n",
       "      <td>68.688</td>\n",
       "      <td>1134.337</td>\n",
       "      <td>2015-12-24</td>\n",
       "      <td>6826.770</td>\n",
       "    </tr>\n",
       "    <tr>\n",
       "      <th>10002</th>\n",
       "      <td>2312.509</td>\n",
       "      <td>2473.163</td>\n",
       "      <td>276.779</td>\n",
       "      <td>NaN</td>\n",
       "      <td>2015-12-21</td>\n",
       "      <td>5062.451</td>\n",
       "    </tr>\n",
       "    <tr>\n",
       "      <th>10003</th>\n",
       "      <td>2887.382</td>\n",
       "      <td>5414.418</td>\n",
       "      <td>260.640</td>\n",
       "      <td>NaN</td>\n",
       "      <td>2015-12-31</td>\n",
       "      <td>8562.440</td>\n",
       "    </tr>\n",
       "    <tr>\n",
       "      <th>10004</th>\n",
       "      <td>3637.213</td>\n",
       "      <td>1840.211</td>\n",
       "      <td>45.270</td>\n",
       "      <td>NaN</td>\n",
       "      <td>2015-12-17</td>\n",
       "      <td>5522.694</td>\n",
       "    </tr>\n",
       "    <tr>\n",
       "      <th>10005</th>\n",
       "      <td>213.512</td>\n",
       "      <td>NaN</td>\n",
       "      <td>NaN</td>\n",
       "      <td>NaN</td>\n",
       "      <td>2015-12-22</td>\n",
       "      <td>213.512</td>\n",
       "    </tr>\n",
       "  </tbody>\n",
       "</table>\n",
       "</div>"
      ],
      "text/plain": [
       "               APPAREL  ELECTRONICS     FOOD  HEALTH & BEAUTY  \\\n",
       "CUSTOMER NUM                                                    \n",
       "10001         4022.430     1601.315   68.688         1134.337   \n",
       "10002         2312.509     2473.163  276.779              NaN   \n",
       "10003         2887.382     5414.418  260.640              NaN   \n",
       "10004         3637.213     1840.211   45.270              NaN   \n",
       "10005          213.512          NaN      NaN              NaN   \n",
       "\n",
       "             RECENT TRANSACTION DATE  TOTAL SPENT  \n",
       "CUSTOMER NUM                                       \n",
       "10001                     2015-12-24     6826.770  \n",
       "10002                     2015-12-21     5062.451  \n",
       "10003                     2015-12-31     8562.440  \n",
       "10004                     2015-12-17     5522.694  \n",
       "10005                     2015-12-22      213.512  "
      ]
     },
     "execution_count": 53,
     "metadata": {},
     "output_type": "execute_result"
    }
   ],
   "source": [
    "customer_KPI.head()"
   ]
  },
  {
   "cell_type": "code",
   "execution_count": 54,
   "metadata": {},
   "outputs": [],
   "source": [
    "#Replace the Null values with zeros by using the fillna function.\n",
    "customer_KPI = customer_KPI.fillna(0)"
   ]
  },
  {
   "cell_type": "code",
   "execution_count": 55,
   "metadata": {},
   "outputs": [
    {
     "data": {
      "text/html": [
       "<div>\n",
       "<style scoped>\n",
       "    .dataframe tbody tr th:only-of-type {\n",
       "        vertical-align: middle;\n",
       "    }\n",
       "\n",
       "    .dataframe tbody tr th {\n",
       "        vertical-align: top;\n",
       "    }\n",
       "\n",
       "    .dataframe thead th {\n",
       "        text-align: right;\n",
       "    }\n",
       "</style>\n",
       "<table border=\"1\" class=\"dataframe\">\n",
       "  <thead>\n",
       "    <tr style=\"text-align: right;\">\n",
       "      <th></th>\n",
       "      <th>APPAREL</th>\n",
       "      <th>ELECTRONICS</th>\n",
       "      <th>FOOD</th>\n",
       "      <th>HEALTH &amp; BEAUTY</th>\n",
       "      <th>RECENT TRANSACTION DATE</th>\n",
       "      <th>TOTAL SPENT</th>\n",
       "    </tr>\n",
       "    <tr>\n",
       "      <th>CUSTOMER NUM</th>\n",
       "      <th></th>\n",
       "      <th></th>\n",
       "      <th></th>\n",
       "      <th></th>\n",
       "      <th></th>\n",
       "      <th></th>\n",
       "    </tr>\n",
       "  </thead>\n",
       "  <tbody>\n",
       "    <tr>\n",
       "      <th>10001</th>\n",
       "      <td>4022.430</td>\n",
       "      <td>1601.315</td>\n",
       "      <td>68.688</td>\n",
       "      <td>1134.337</td>\n",
       "      <td>2015-12-24</td>\n",
       "      <td>6826.770</td>\n",
       "    </tr>\n",
       "    <tr>\n",
       "      <th>10002</th>\n",
       "      <td>2312.509</td>\n",
       "      <td>2473.163</td>\n",
       "      <td>276.779</td>\n",
       "      <td>0.000</td>\n",
       "      <td>2015-12-21</td>\n",
       "      <td>5062.451</td>\n",
       "    </tr>\n",
       "    <tr>\n",
       "      <th>10003</th>\n",
       "      <td>2887.382</td>\n",
       "      <td>5414.418</td>\n",
       "      <td>260.640</td>\n",
       "      <td>0.000</td>\n",
       "      <td>2015-12-31</td>\n",
       "      <td>8562.440</td>\n",
       "    </tr>\n",
       "    <tr>\n",
       "      <th>10004</th>\n",
       "      <td>3637.213</td>\n",
       "      <td>1840.211</td>\n",
       "      <td>45.270</td>\n",
       "      <td>0.000</td>\n",
       "      <td>2015-12-17</td>\n",
       "      <td>5522.694</td>\n",
       "    </tr>\n",
       "    <tr>\n",
       "      <th>10005</th>\n",
       "      <td>213.512</td>\n",
       "      <td>0.000</td>\n",
       "      <td>0.000</td>\n",
       "      <td>0.000</td>\n",
       "      <td>2015-12-22</td>\n",
       "      <td>213.512</td>\n",
       "    </tr>\n",
       "  </tbody>\n",
       "</table>\n",
       "</div>"
      ],
      "text/plain": [
       "               APPAREL  ELECTRONICS     FOOD  HEALTH & BEAUTY  \\\n",
       "CUSTOMER NUM                                                    \n",
       "10001         4022.430     1601.315   68.688         1134.337   \n",
       "10002         2312.509     2473.163  276.779            0.000   \n",
       "10003         2887.382     5414.418  260.640            0.000   \n",
       "10004         3637.213     1840.211   45.270            0.000   \n",
       "10005          213.512        0.000    0.000            0.000   \n",
       "\n",
       "             RECENT TRANSACTION DATE  TOTAL SPENT  \n",
       "CUSTOMER NUM                                       \n",
       "10001                     2015-12-24     6826.770  \n",
       "10002                     2015-12-21     5062.451  \n",
       "10003                     2015-12-31     8562.440  \n",
       "10004                     2015-12-17     5522.694  \n",
       "10005                     2015-12-22      213.512  "
      ]
     },
     "execution_count": 55,
     "metadata": {},
     "output_type": "execute_result"
    }
   ],
   "source": [
    "customer_KPI.head()"
   ]
  },
  {
   "cell_type": "code",
   "execution_count": 56,
   "metadata": {},
   "outputs": [
    {
     "data": {
      "text/html": [
       "<div>\n",
       "<style scoped>\n",
       "    .dataframe tbody tr th:only-of-type {\n",
       "        vertical-align: middle;\n",
       "    }\n",
       "\n",
       "    .dataframe tbody tr th {\n",
       "        vertical-align: top;\n",
       "    }\n",
       "\n",
       "    .dataframe thead th {\n",
       "        text-align: right;\n",
       "    }\n",
       "</style>\n",
       "<table border=\"1\" class=\"dataframe\">\n",
       "  <thead>\n",
       "    <tr style=\"text-align: right;\">\n",
       "      <th></th>\n",
       "      <th>CUSTOMERID</th>\n",
       "      <th>GENDER</th>\n",
       "      <th>AGE</th>\n",
       "      <th>INCOME</th>\n",
       "      <th>EXPERIENCE SCORE</th>\n",
       "      <th>LOYALTY GROUP</th>\n",
       "      <th>ENROLLMENT DATE</th>\n",
       "      <th>HOUSEHOLD SIZE</th>\n",
       "      <th>MARITAL STATUS</th>\n",
       "      <th>APPAREL</th>\n",
       "      <th>ELECTRONICS</th>\n",
       "      <th>FOOD</th>\n",
       "      <th>HEALTH &amp; BEAUTY</th>\n",
       "      <th>RECENT TRANSACTION DATE</th>\n",
       "      <th>TOTAL SPENT</th>\n",
       "    </tr>\n",
       "  </thead>\n",
       "  <tbody>\n",
       "    <tr>\n",
       "      <th>0</th>\n",
       "      <td>10001</td>\n",
       "      <td>0</td>\n",
       "      <td>64</td>\n",
       "      <td>133498</td>\n",
       "      <td>5</td>\n",
       "      <td>enrolled</td>\n",
       "      <td>2013-03-06</td>\n",
       "      <td>4</td>\n",
       "      <td>Single</td>\n",
       "      <td>4022.430</td>\n",
       "      <td>1601.315</td>\n",
       "      <td>68.688</td>\n",
       "      <td>1134.337</td>\n",
       "      <td>2015-12-24</td>\n",
       "      <td>6826.770</td>\n",
       "    </tr>\n",
       "    <tr>\n",
       "      <th>1</th>\n",
       "      <td>10002</td>\n",
       "      <td>0</td>\n",
       "      <td>42</td>\n",
       "      <td>94475</td>\n",
       "      <td>9</td>\n",
       "      <td>notenrolled</td>\n",
       "      <td>NaT</td>\n",
       "      <td>6</td>\n",
       "      <td>Married</td>\n",
       "      <td>2312.509</td>\n",
       "      <td>2473.163</td>\n",
       "      <td>276.779</td>\n",
       "      <td>0.000</td>\n",
       "      <td>2015-12-21</td>\n",
       "      <td>5062.451</td>\n",
       "    </tr>\n",
       "    <tr>\n",
       "      <th>2</th>\n",
       "      <td>10003</td>\n",
       "      <td>0</td>\n",
       "      <td>40</td>\n",
       "      <td>88610</td>\n",
       "      <td>9</td>\n",
       "      <td>enrolled</td>\n",
       "      <td>2010-09-02</td>\n",
       "      <td>5</td>\n",
       "      <td>Married</td>\n",
       "      <td>2887.382</td>\n",
       "      <td>5414.418</td>\n",
       "      <td>260.640</td>\n",
       "      <td>0.000</td>\n",
       "      <td>2015-12-31</td>\n",
       "      <td>8562.440</td>\n",
       "    </tr>\n",
       "    <tr>\n",
       "      <th>3</th>\n",
       "      <td>10004</td>\n",
       "      <td>0</td>\n",
       "      <td>38</td>\n",
       "      <td>84313</td>\n",
       "      <td>8</td>\n",
       "      <td>enrolled</td>\n",
       "      <td>2015-04-06</td>\n",
       "      <td>1</td>\n",
       "      <td>Single</td>\n",
       "      <td>3637.213</td>\n",
       "      <td>1840.211</td>\n",
       "      <td>45.270</td>\n",
       "      <td>0.000</td>\n",
       "      <td>2015-12-17</td>\n",
       "      <td>5522.694</td>\n",
       "    </tr>\n",
       "    <tr>\n",
       "      <th>4</th>\n",
       "      <td>10005</td>\n",
       "      <td>0</td>\n",
       "      <td>30</td>\n",
       "      <td>51498</td>\n",
       "      <td>3</td>\n",
       "      <td>notenrolled</td>\n",
       "      <td>NaT</td>\n",
       "      <td>1</td>\n",
       "      <td>Single</td>\n",
       "      <td>213.512</td>\n",
       "      <td>0.000</td>\n",
       "      <td>0.000</td>\n",
       "      <td>0.000</td>\n",
       "      <td>2015-12-22</td>\n",
       "      <td>213.512</td>\n",
       "    </tr>\n",
       "  </tbody>\n",
       "</table>\n",
       "</div>"
      ],
      "text/plain": [
       "   CUSTOMERID  GENDER  AGE  INCOME  EXPERIENCE SCORE LOYALTY GROUP  \\\n",
       "0       10001       0   64  133498                 5      enrolled   \n",
       "1       10002       0   42   94475                 9   notenrolled   \n",
       "2       10003       0   40   88610                 9      enrolled   \n",
       "3       10004       0   38   84313                 8      enrolled   \n",
       "4       10005       0   30   51498                 3   notenrolled   \n",
       "\n",
       "  ENROLLMENT DATE  HOUSEHOLD SIZE MARITAL STATUS   APPAREL  ELECTRONICS  \\\n",
       "0      2013-03-06               4         Single  4022.430     1601.315   \n",
       "1             NaT               6        Married  2312.509     2473.163   \n",
       "2      2010-09-02               5        Married  2887.382     5414.418   \n",
       "3      2015-04-06               1         Single  3637.213     1840.211   \n",
       "4             NaT               1         Single   213.512        0.000   \n",
       "\n",
       "      FOOD  HEALTH & BEAUTY RECENT TRANSACTION DATE  TOTAL SPENT  \n",
       "0   68.688         1134.337              2015-12-24     6826.770  \n",
       "1  276.779            0.000              2015-12-21     5062.451  \n",
       "2  260.640            0.000              2015-12-31     8562.440  \n",
       "3   45.270            0.000              2015-12-17     5522.694  \n",
       "4    0.000            0.000              2015-12-22      213.512  "
      ]
     },
     "execution_count": 56,
     "metadata": {},
     "output_type": "execute_result"
    }
   ],
   "source": [
    "#Augment this view with the customer original data set to provide a holistic view\n",
    "#for Retailer X about its customers by performing another join.\n",
    "\n",
    "customer_all_data_merge = customerD.merge(customer_KPI, how='inner', left_on='CUSTOMERID', right_index=True)\n",
    "customer_all_data_merge.head()"
   ]
  },
  {
   "cell_type": "code",
   "execution_count": 57,
   "metadata": {},
   "outputs": [
    {
     "data": {
      "text/html": [
       "<div>\n",
       "<style scoped>\n",
       "    .dataframe tbody tr th:only-of-type {\n",
       "        vertical-align: middle;\n",
       "    }\n",
       "\n",
       "    .dataframe tbody tr th {\n",
       "        vertical-align: top;\n",
       "    }\n",
       "\n",
       "    .dataframe thead th {\n",
       "        text-align: right;\n",
       "    }\n",
       "</style>\n",
       "<table border=\"1\" class=\"dataframe\">\n",
       "  <thead>\n",
       "    <tr style=\"text-align: right;\">\n",
       "      <th>LOYALTY GROUP</th>\n",
       "      <th>enrolled</th>\n",
       "      <th>notenrolled</th>\n",
       "    </tr>\n",
       "    <tr>\n",
       "      <th>GENDER</th>\n",
       "      <th></th>\n",
       "      <th></th>\n",
       "    </tr>\n",
       "  </thead>\n",
       "  <tbody>\n",
       "    <tr>\n",
       "      <th>0</th>\n",
       "      <td>131</td>\n",
       "      <td>120</td>\n",
       "    </tr>\n",
       "    <tr>\n",
       "      <th>1</th>\n",
       "      <td>133</td>\n",
       "      <td>116</td>\n",
       "    </tr>\n",
       "  </tbody>\n",
       "</table>\n",
       "</div>"
      ],
      "text/plain": [
       "LOYALTY GROUP  enrolled  notenrolled\n",
       "GENDER                              \n",
       "0                   131          120\n",
       "1                   133          116"
      ]
     },
     "execution_count": 57,
     "metadata": {},
     "output_type": "execute_result"
    }
   ],
   "source": [
    "#use a Pandas crosstab to compute a simple cross-tabulation brtween gender and loyalty group, which is a tool that\n",
    "#you can use to compare the relationship between two variables in tabular form,\n",
    "#especially categorical variables\n",
    "\n",
    "table= pd.crosstab(customer_all_data_merge['GENDER'], customer_all_data_merge['LOYALTY GROUP'])\n",
    "table"
   ]
  },
  {
   "cell_type": "code",
   "execution_count": 58,
   "metadata": {},
   "outputs": [
    {
     "data": {
      "text/plain": [
       "<matplotlib.axes._subplots.AxesSubplot at 0x25d55adfba8>"
      ]
     },
     "execution_count": 58,
     "metadata": {},
     "output_type": "execute_result"
    },
    {
     "data": {
      "image/png": "[encoded data removed]",
      "text/plain": [
       "<Figure size 432x432 with 1 Axes>"
      ]
     },
     "metadata": {
      "needs_background": "light"
     },
     "output_type": "display_data"
    }
   ],
   "source": [
    "# plot the table in a bar chart \n",
    "#Question: Does gender affect loyalty enrollment?\n",
    "\n",
    "table.plot(kind='bar', stacked=True,figsize=(6,6))"
   ]
  },
  {
   "cell_type": "code",
   "execution_count": 59,
   "metadata": {},
   "outputs": [
    {
     "data": {
      "text/html": [
       "<div>\n",
       "<style scoped>\n",
       "    .dataframe tbody tr th:only-of-type {\n",
       "        vertical-align: middle;\n",
       "    }\n",
       "\n",
       "    .dataframe tbody tr th {\n",
       "        vertical-align: top;\n",
       "    }\n",
       "\n",
       "    .dataframe thead th {\n",
       "        text-align: right;\n",
       "    }\n",
       "</style>\n",
       "<table border=\"1\" class=\"dataframe\">\n",
       "  <thead>\n",
       "    <tr style=\"text-align: right;\">\n",
       "      <th>LOYALTY GROUP</th>\n",
       "      <th>enrolled</th>\n",
       "      <th>notenrolled</th>\n",
       "    </tr>\n",
       "    <tr>\n",
       "      <th>EXPERIENCE SCORE</th>\n",
       "      <th></th>\n",
       "      <th></th>\n",
       "    </tr>\n",
       "  </thead>\n",
       "  <tbody>\n",
       "    <tr>\n",
       "      <th>1</th>\n",
       "      <td>0</td>\n",
       "      <td>28</td>\n",
       "    </tr>\n",
       "    <tr>\n",
       "      <th>2</th>\n",
       "      <td>0</td>\n",
       "      <td>19</td>\n",
       "    </tr>\n",
       "    <tr>\n",
       "      <th>3</th>\n",
       "      <td>0</td>\n",
       "      <td>18</td>\n",
       "    </tr>\n",
       "    <tr>\n",
       "      <th>4</th>\n",
       "      <td>0</td>\n",
       "      <td>22</td>\n",
       "    </tr>\n",
       "    <tr>\n",
       "      <th>5</th>\n",
       "      <td>43</td>\n",
       "      <td>23</td>\n",
       "    </tr>\n",
       "  </tbody>\n",
       "</table>\n",
       "</div>"
      ],
      "text/plain": [
       "LOYALTY GROUP     enrolled  notenrolled\n",
       "EXPERIENCE SCORE                       \n",
       "1                        0           28\n",
       "2                        0           19\n",
       "3                        0           18\n",
       "4                        0           22\n",
       "5                       43           23"
      ]
     },
     "execution_count": 59,
     "metadata": {},
     "output_type": "execute_result"
    }
   ],
   "source": [
    "# Using cross-tabulation and bar chart,Does the experience score affect loyalty enrollment?\n",
    "\n",
    "table1=pd.crosstab(customer_all_data_merge['EXPERIENCE SCORE'], customer_all_data_merge['LOYALTY GROUP'])\n",
    "table1.head()"
   ]
  },
  {
   "cell_type": "code",
   "execution_count": 60,
   "metadata": {},
   "outputs": [
    {
     "data": {
      "text/plain": [
       "<matplotlib.axes._subplots.AxesSubplot at 0x25d55b0ab38>"
      ]
     },
     "execution_count": 60,
     "metadata": {},
     "output_type": "execute_result"
    },
    {
     "data": {
      "image/png": "[encoded data removed]",
      "text/plain": [
       "<Figure size 432x432 with 1 Axes>"
      ]
     },
     "metadata": {
      "needs_background": "light"
     },
     "output_type": "display_data"
    }
   ],
   "source": [
    "#ENROLLMENT BAR CHART WITH LOYALTY GROUP\n",
    "table1.plot(kind='bar', stacked=True, figsize=(6,6))"
   ]
  },
  {
   "cell_type": "code",
   "execution_count": 61,
   "metadata": {},
   "outputs": [
    {
     "data": {
      "text/plain": [
       "'Age is a continuous variable. To see the significance of age regarding loyalty\\nenrollment, bin several age groups, and for each one compute the number of\\nenrolled versus not-enrolled.\\nThe Pandas cut command automatically bins values into discrete intervals. You use\\nit to derive a new Pandas column that is called “Age_Binned”, which represents the\\nage group of the customer. In this exercise, you create 10 age groups (bins)\\n'"
      ]
     },
     "execution_count": 61,
     "metadata": {},
     "output_type": "execute_result"
    }
   ],
   "source": [
    "'''Age is a continuous variable. To see the significance of age regarding loyalty\n",
    "enrollment, bin several age groups, and for each one compute the number of\n",
    "enrolled versus not-enrolled.\n",
    "The Pandas cut command automatically bins values into discrete intervals. You use\n",
    "it to derive a new Pandas column that is called “Age_Binned”, which represents the\n",
    "age group of the customer. In this exercise, you create 10 age groups (bins)\n",
    "'''"
   ]
  },
  {
   "cell_type": "code",
   "execution_count": 62,
   "metadata": {},
   "outputs": [],
   "source": [
    "#CREATING AGE BINNED USING 10 INTERVALS\n",
    "customer_all_data_merge['AGE BINNED'] =pd.cut(customer_all_data_merge['AGE'],10)"
   ]
  },
  {
   "cell_type": "code",
   "execution_count": 63,
   "metadata": {},
   "outputs": [
    {
     "data": {
      "text/plain": [
       "(32.4, 39.6]      94\n",
       "(39.6, 46.8]      91\n",
       "(25.2, 32.4]      86\n",
       "(17.928, 25.2]    78\n",
       "(46.8, 54.0]      51\n",
       "(54.0, 61.2]      24\n",
       "(82.8, 90.0]      23\n",
       "(61.2, 68.4]      23\n",
       "(75.6, 82.8]      16\n",
       "(68.4, 75.6]      14\n",
       "Name: AGE BINNED, dtype: int64"
      ]
     },
     "execution_count": 63,
     "metadata": {},
     "output_type": "execute_result"
    }
   ],
   "source": [
    "customer_all_data_merge['AGE BINNED'].value_counts()"
   ]
  },
  {
   "cell_type": "code",
   "execution_count": 64,
   "metadata": {},
   "outputs": [
    {
     "data": {
      "text/plain": [
       "<matplotlib.axes._subplots.AxesSubplot at 0x25d55acc6a0>"
      ]
     },
     "execution_count": 64,
     "metadata": {},
     "output_type": "execute_result"
    },
    {
     "data": {
      "image/png": "[encoded data removed]",
      "text/plain": [
       "<Figure size 504x504 with 1 Axes>"
      ]
     },
     "metadata": {
      "needs_background": "light"
     },
     "output_type": "display_data"
    }
   ],
   "source": [
    "# Using cross-tabulation and bar chart,Does the Age score affect loyalty enrollment?\n",
    "\n",
    "table3 = pd.crosstab(customer_all_data_merge['AGE BINNED'], customer_all_data_merge['LOYALTY GROUP'])\n",
    "table3.plot(kind='bar', stacked= True, figsize=(7,7))"
   ]
  },
  {
   "cell_type": "code",
   "execution_count": 65,
   "metadata": {},
   "outputs": [
    {
     "data": {
      "text/html": [
       "<div>\n",
       "<style scoped>\n",
       "    .dataframe tbody tr th:only-of-type {\n",
       "        vertical-align: middle;\n",
       "    }\n",
       "\n",
       "    .dataframe tbody tr th {\n",
       "        vertical-align: top;\n",
       "    }\n",
       "\n",
       "    .dataframe thead th {\n",
       "        text-align: right;\n",
       "    }\n",
       "</style>\n",
       "<table border=\"1\" class=\"dataframe\">\n",
       "  <thead>\n",
       "    <tr style=\"text-align: right;\">\n",
       "      <th></th>\n",
       "      <th>AGE</th>\n",
       "    </tr>\n",
       "    <tr>\n",
       "      <th>LOYALTY GROUP</th>\n",
       "      <th></th>\n",
       "    </tr>\n",
       "  </thead>\n",
       "  <tbody>\n",
       "    <tr>\n",
       "      <th>enrolled</th>\n",
       "      <td>44.723485</td>\n",
       "    </tr>\n",
       "    <tr>\n",
       "      <th>notenrolled</th>\n",
       "      <td>39.622881</td>\n",
       "    </tr>\n",
       "  </tbody>\n",
       "</table>\n",
       "</div>"
      ],
      "text/plain": [
       "                     AGE\n",
       "LOYALTY GROUP           \n",
       "enrolled       44.723485\n",
       "notenrolled    39.622881"
      ]
     },
     "execution_count": 65,
     "metadata": {},
     "output_type": "execute_result"
    }
   ],
   "source": [
    "#AGGREGATE OF AGE MEAN BY GROUPING WITH LOYALTY GROUP\n",
    "customer_all_data_merge.groupby('LOYALTY GROUP').agg({'AGE': 'mean'})"
   ]
  },
  {
   "cell_type": "code",
   "execution_count": 66,
   "metadata": {},
   "outputs": [
    {
     "data": {
      "text/plain": [
       "<matplotlib.axes._subplots.AxesSubplot at 0x25d55caa240>"
      ]
     },
     "execution_count": 66,
     "metadata": {},
     "output_type": "execute_result"
    },
    {
     "data": {
      "image/png": "[encoded data removed]",
      "text/plain": [
       "<Figure size 504x504 with 1 Axes>"
      ]
     },
     "metadata": {
      "needs_background": "light"
     },
     "output_type": "display_data"
    }
   ],
   "source": [
    "#Does marital status affect loyalty enrollment?\n",
    "#stacked= True here is to overlay enrolled and notenrolled on each other\n",
    "table2=pd.crosstab(customer_all_data_merge['MARITAL STATUS'], customer_all_data_merge['LOYALTY GROUP'])\n",
    "table2.plot(kind='bar', stacked=True, figsize=(7,7))"
   ]
  },
  {
   "cell_type": "code",
   "execution_count": 67,
   "metadata": {},
   "outputs": [],
   "source": [
    "#As total spend is a continuous variable, divide it into 10 discrete intervals and plot\n",
    "#them as a stacked bar chart.\n",
    "\n",
    "customer_all_data_merge['TOTAL SPENT BINNED'] =pd.cut(customer_all_data_merge['TOTAL SPENT'], 10)"
   ]
  },
  {
   "cell_type": "code",
   "execution_count": 68,
   "metadata": {},
   "outputs": [
    {
     "data": {
      "text/plain": [
       "<matplotlib.axes._subplots.AxesSubplot at 0x25d55d06c18>"
      ]
     },
     "execution_count": 68,
     "metadata": {},
     "output_type": "execute_result"
    },
    {
     "data": {
      "image/png": "[encoded data removed]",
      "text/plain": [
       "<Figure size 504x504 with 1 Axes>"
      ]
     },
     "metadata": {
      "needs_background": "light"
     },
     "output_type": "display_data"
    }
   ],
   "source": [
    "#STACKED BAR CHART PLOT\n",
    "table4 = pd.crosstab(customer_all_data_merge['TOTAL SPENT BINNED'], customer_all_data_merge['LOYALTY GROUP'])\n",
    "table4.plot(kind='bar', stacked=True, figsize=(7,7))"
   ]
  },
  {
   "cell_type": "code",
   "execution_count": 69,
   "metadata": {},
   "outputs": [
    {
     "data": {
      "text/plain": [
       "'You have tried to understand what factors might affect participation in the loyalty\\nprogram. Now, you will understand what factors affect the total spending of a\\ncustomer.\\nBivariate Analysis (2-variable analysis) – Customer spend as a target variable\\nConduct some bivariate analysis to analyze the relationship between some variables\\nand customer spending (the target variable) to test whether there is an association.\\nAge\\nAge is a continuous variable, as is the total spend. Display them together in a scatter plot.\\nBased on this graph, does age influence total spending?\\n'"
      ]
     },
     "execution_count": 69,
     "metadata": {},
     "output_type": "execute_result"
    }
   ],
   "source": [
    "#\n",
    "'''You have tried to understand what factors might affect participation in the loyalty\n",
    "program. Now, you will understand what factors affect the total spending of a\n",
    "customer.\n",
    "Bivariate Analysis (2-variable analysis) – Customer spend as a target variable\n",
    "Conduct some bivariate analysis to analyze the relationship between some variables\n",
    "and customer spending (the target variable) to test whether there is an association.\n",
    "Age\n",
    "Age is a continuous variable, as is the total spend. Display them together in a scatter plot.\n",
    "Based on this graph, does age influence total spending?\n",
    "'''"
   ]
  },
  {
   "cell_type": "code",
   "execution_count": 70,
   "metadata": {},
   "outputs": [
    {
     "data": {
      "text/plain": [
       "Text(0.5, 1.0, 'TOTAL SPENT VS AGE')"
      ]
     },
     "execution_count": 70,
     "metadata": {},
     "output_type": "execute_result"
    },
    {
     "data": {
      "image/png": "[encoded data removed]",
      "text/plain": [
       "<Figure size 432x288 with 1 Axes>"
      ]
     },
     "metadata": {
      "needs_background": "light"
     },
     "output_type": "display_data"
    }
   ],
   "source": [
    "plt.scatter(customer_all_data_merge['AGE'],customer_all_data_merge['TOTAL SPENT'])\n",
    "plt.xlabel('AGE')\n",
    "plt.ylabel('TOTAL SPENT')\n",
    "plt.title( 'TOTAL SPENT VS AGE')\n"
   ]
  },
  {
   "cell_type": "code",
   "execution_count": 71,
   "metadata": {},
   "outputs": [
    {
     "data": {
      "text/plain": [
       "Text(0.5, 1.0, 'TOTAL SPENT VS INCOME')"
      ]
     },
     "execution_count": 71,
     "metadata": {},
     "output_type": "execute_result"
    },
    {
     "data": {
      "image/png": "[encoded data removed]",
      "text/plain": [
       "<Figure size 432x288 with 1 Axes>"
      ]
     },
     "metadata": {
      "needs_background": "light"
     },
     "output_type": "display_data"
    }
   ],
   "source": [
    "#Create a scatter plot to show the relationship betweeen income and total spend, and then calculate the Pearson correlation\n",
    "\n",
    "plt.scatter(customer_all_data_merge[\"INCOME\"], customer_all_data_merge[\"TOTAL SPENT\"])\n",
    "plt.xlabel('INCOME')\n",
    "plt.ylabel('TOTAL SPENT')\n",
    "plt.title( 'TOTAL SPENT VS INCOME')"
   ]
  },
  {
   "cell_type": "code",
   "execution_count": 72,
   "metadata": {},
   "outputs": [
    {
     "data": {
      "text/plain": [
       "(0.6880311084625118, 2.322632696381397e-71)"
      ]
     },
     "execution_count": 72,
     "metadata": {},
     "output_type": "execute_result"
    }
   ],
   "source": [
    "from scipy.stats import pearsonr\n",
    "pearsonr(customer_all_data_merge['INCOME'], customer_all_data_merge[\"TOTAL SPENT\"])\n",
    "         "
   ]
  },
  {
   "cell_type": "code",
   "execution_count": 73,
   "metadata": {},
   "outputs": [
    {
     "data": {
      "text/plain": [
       "(0.5760170677259271, 1.5608217502782303e-45)"
      ]
     },
     "execution_count": 73,
     "metadata": {},
     "output_type": "execute_result"
    }
   ],
   "source": [
    "#pearsonr correletion for age, as we can see INCOME as more correlation to TOTAL SPENT than age.\n",
    "pearsonr(customer_all_data_merge['AGE'],customer_all_data_merge['TOTAL SPENT'])"
   ]
  },
  {
   "cell_type": "code",
   "execution_count": 74,
   "metadata": {},
   "outputs": [],
   "source": [
    "#Examine the relationship between the experience score (which is a categorical\n",
    "#feature) and total spend (which is continuous). \n",
    "\n",
    "table =customer_all_data_merge.groupby(['EXPERIENCE SCORE']).agg({'TOTAL SPENT' : 'mean'}).reset_index()"
   ]
  },
  {
   "cell_type": "code",
   "execution_count": 75,
   "metadata": {},
   "outputs": [
    {
     "data": {
      "image/png": "[encoded data removed]",
      "text/plain": [
       "<Figure size 432x288 with 1 Axes>"
      ]
     },
     "metadata": {
      "needs_background": "light"
     },
     "output_type": "display_data"
    }
   ],
   "source": [
    "table['TOTAL SPENT'].plot(kind='bar')\n",
    "plt.xlabel(\"EXPERIENCE SCORE\")\n",
    "plt.ylabel(\"AVERAGE TOTAL SPENT BY SCORE\")\n",
    "plt.show()"
   ]
  },
  {
   "cell_type": "code",
   "execution_count": 84,
   "metadata": {},
   "outputs": [
    {
     "data": {
      "text/html": [
       "<div>\n",
       "<style scoped>\n",
       "    .dataframe tbody tr th:only-of-type {\n",
       "        vertical-align: middle;\n",
       "    }\n",
       "\n",
       "    .dataframe tbody tr th {\n",
       "        vertical-align: top;\n",
       "    }\n",
       "\n",
       "    .dataframe thead th {\n",
       "        text-align: right;\n",
       "    }\n",
       "</style>\n",
       "<table border=\"1\" class=\"dataframe\">\n",
       "  <thead>\n",
       "    <tr style=\"text-align: right;\">\n",
       "      <th></th>\n",
       "      <th>EXPERIENCE SCORE</th>\n",
       "      <th>TOTAL SPENT</th>\n",
       "    </tr>\n",
       "  </thead>\n",
       "  <tbody>\n",
       "    <tr>\n",
       "      <th>0</th>\n",
       "      <td>1</td>\n",
       "      <td>3911.019036</td>\n",
       "    </tr>\n",
       "    <tr>\n",
       "      <th>1</th>\n",
       "      <td>2</td>\n",
       "      <td>4410.997842</td>\n",
       "    </tr>\n",
       "    <tr>\n",
       "      <th>2</th>\n",
       "      <td>3</td>\n",
       "      <td>3395.602222</td>\n",
       "    </tr>\n",
       "    <tr>\n",
       "      <th>3</th>\n",
       "      <td>4</td>\n",
       "      <td>4257.461455</td>\n",
       "    </tr>\n",
       "    <tr>\n",
       "      <th>4</th>\n",
       "      <td>5</td>\n",
       "      <td>6097.330864</td>\n",
       "    </tr>\n",
       "  </tbody>\n",
       "</table>\n",
       "</div>"
      ],
      "text/plain": [
       "   EXPERIENCE SCORE  TOTAL SPENT\n",
       "0                 1  3911.019036\n",
       "1                 2  4410.997842\n",
       "2                 3  3395.602222\n",
       "3                 4  4257.461455\n",
       "4                 5  6097.330864"
      ]
     },
     "execution_count": 84,
     "metadata": {},
     "output_type": "execute_result"
    }
   ],
   "source": [
    "#THIS IS TO DISPLAY JUST FIVE ROWS ON THE TABLE\n",
    "table.head()"
   ]
  },
  {
   "cell_type": "code",
   "execution_count": null,
   "metadata": {},
   "outputs": [],
   "source": []
  }
 ],
 "metadata": {
  "kernelspec": {
   "display_name": "Python 3",
   "language": "python",
   "name": "python3"
  },
  "language_info": {
   "codemirror_mode": {
    "name": "ipython",
    "version": 3
   },
   "file_extension": ".py",
   "mimetype": "text/x-python",
   "name": "python",
   "nbconvert_exporter": "python",
   "pygments_lexer": "ipython3",
   "version": "3.7.3"
  }
 },
 "nbformat": 4,
 "nbformat_minor": 2
}
